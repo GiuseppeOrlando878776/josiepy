{
  "cells": [
    {
      "cell_type": "markdown",
      "id": "naked-brick",
      "metadata": {},
      "source": [
        "## Define fields"
      ]
    },
    {
      "cell_type": "code",
      "execution_count": null,
      "id": "coastal-scoop",
      "metadata": {},
      "outputs": [],
      "source": [
        "from josie.fluid.fields import FluidFields\n",
        "from josie.fields import Fields\n",
        "\n",
        "class SigmaFields(FluidFields):\n",
        "    # Conservative\n",
        "    rho = 0\n",
        "    rhoU = 1\n",
        "    rhoV = 2\n",
        "    rhoY = 3\n",
        "    rhoYw = 4\n",
        "    rhoa = 5\n",
        "    rhoz = 6\n",
        "    \n",
        "    # Auxiliary\n",
        "    U = 7\n",
        "    V = 8\n",
        "    P = 9\n",
        "    c = 10\n",
        "    Y = 11\n",
        "    w = 12\n",
        "    alpha = 13\n",
        "    z = 14\n",
        "\n",
        "    \n",
        "class SigmaConsFields(Fields):\n",
        "    rho = 0\n",
        "    rhoU = 1\n",
        "    rhoV = 2\n",
        "    rhoY = 3\n",
        "    rhoYw = 4\n",
        "    rhoa = 5\n",
        "    rhoZ = 6"
      ]
    },
    {
      "cell_type": "markdown",
      "id": "verbal-building",
      "metadata": {},
      "source": [
        "## Define State"
      ]
    },
    {
      "cell_type": "code",
      "execution_count": null,
      "id": "pregnant-carrier",
      "metadata": {},
      "outputs": [],
      "source": [
        "from josie.fluid.state import SingleFluidState\n",
        "from josie.state import SubsetState\n",
        "\n",
        "class SigmaConsState(SubsetState):\n",
        "    full_state_fields = SigmaFields\n",
        "    fields = SigmaConsFields\n",
        "    \n",
        "class SigmaState(SingleFluidState):\n",
        "    fields = SigmaFields\n",
        "    cons_state = SigmaConsState\n",
        "    \n"
      ]
    },
    {
      "cell_type": "markdown",
      "id": "adjusted-bubble",
      "metadata": {},
      "source": [
        "## Define Barotropic EOS"
      ]
    },
    {
      "cell_type": "code",
      "execution_count": null,
      "id": "adaptive-stamp",
      "metadata": {},
      "outputs": [],
      "source": [
        "class Barotropic:\n",
        "    \"\"\"\n",
        "    .. math::\n",
        "    \n",
        "        \\pressure = a\\rho^b\n",
        "    \"\"\"\n",
        "    \n",
        "    def __init__(self, a, b, surface_tension):\n",
        "        self._constant = a\n",
        "        self._exp = b\n",
        "        self._sigma = surface_tension\n",
        "    \n",
        "    def p(self, rho):\n",
        "        return self._constant * rho ** self._exp\n",
        "    \n",
        "    def rho(self, p):\n",
        "        return (p / self._constant) ** (1/self._exp)\n",
        "    \n",
        "    def sound_velocity(self, rho, p):\n",
        "        return self._constant * self._exp * rho ** (self._exp - 1)"
      ]
    },
    {
      "cell_type": "markdown",
      "id": "increasing-depth",
      "metadata": {},
      "source": [
        "## Define Mixture EOS"
      ]
    },
    {
      "cell_type": "code",
      "execution_count": null,
      "id": "complex-geology",
      "metadata": {},
      "outputs": [],
      "source": [
        "from josie.twofluid.state import PhasePair\n",
        "\n",
        "class MixtureEOS(PhasePair):\n",
        "    def __init__(self, eos1, eos2, surface_tension):\n",
        "        super().__init__(eos1, eos2)\n",
        "        self.surface_tension = surface_tension"
      ]
    },
    {
      "cell_type": "markdown",
      "id": "another-movie",
      "metadata": {},
      "source": [
        "## Define Problem"
      ]
    },
    {
      "cell_type": "code",
      "execution_count": null,
      "id": "phantom-egyptian",
      "metadata": {},
      "outputs": [],
      "source": [
        "from josie.problem import Problem\n",
        "from josie.dimension import MAX_DIMENSIONALITY\n",
        "from josie.math import Direction\n",
        "\n",
        "class SigmaProblem(Problem):\n",
        "    def __init__(self, eos: MixtureEOS):\n",
        "        self.eos = eos\n",
        "        \n",
        "    def F(self, cells):\n",
        "        values = cells.values.view(SigmaState)\n",
        "        nx, ny, _ = values.shape\n",
        "        \n",
        "        # Flux tensor\n",
        "        F = np.zeros(\n",
        "            (\n",
        "                nx,\n",
        "                ny,\n",
        "                len(SigmaConsFields),\n",
        "                MAX_DIMENSIONALITY,\n",
        "            )\n",
        "        )\n",
        "        \n",
        "        fields = values.fields\n",
        "                  \n",
        "        rho = values[..., fields.alpha]\n",
        "        rhoU = values[..., fields.rhoU]\n",
        "        rhoV = values[..., fields.rhoV]\n",
        "        rhoY = values[..., fields.rhoY]\n",
        "        rhoYw = values[..., fields.rho]\n",
        "        rhoa = values[..., fields.rhoa]\n",
        "        \n",
        "        U = values[..., fields.U]\n",
        "        V = values[..., fields.V]\n",
        "        P = values[..., fields.P]\n",
        "        \n",
        "       \n",
        "        F[..., fields.rho, Direction.X] = rhoU\n",
        "        F[..., fields.rho, Direction.Y] = rhoV\n",
        "        F[..., fields.rhoU, Direction.X] = rhoU * U + P\n",
        "        F[..., fields.rhoU, Direction.Y] = rhoU * V\n",
        "        F[..., fields.rhoV, Direction.X] = rhoV * U\n",
        "        F[..., fields.rhoV, Direction.Y] = rhoV * V + P\n",
        "        F[..., fields.rhoY, Direction.X] = rhoY * U\n",
        "        F[..., fields.rhoY, Direction.Y] = rhoY * V\n",
        "        F[..., fields.rhoYw, Direction.X] = rhoYw * U\n",
        "        F[..., fields.rhoYw, Direction.Y] = rhoYw * V\n",
        "        F[..., fields.rhoa, Direction.X] = rhoa * U\n",
        "        F[..., fields.rhoa, Direction.Y] = rhoa * V\n",
        "        F[..., fields.rhoz, Direction.X] = rhoz * U\n",
        "        F[..., fields.rhoz, Direction.Y] = rhoz * V\n",
        "        \n",
        "        return F\n",
        "        \n",
        "        "
      ]
    },
    {
      "cell_type": "markdown",
      "id": "explicit-bermuda",
      "metadata": {},
      "source": [
        "## Define Scheme"
      ]
    },
    {
      "cell_type": "code",
      "execution_count": null,
      "id": "crude-broad",
      "metadata": {},
      "outputs": [],
      "source": [
        "import numpy as np\n",
        "\n",
        "from josie.euler.schemes import EulerScheme\n",
        "\n",
        "class SigmaScheme(EulerScheme):\n",
        "    def __init__(self, eos: TwoPhaseEOS):\n",
        "        super().__init_(SigmaProblem(eos))\n",
        "        \n",
        "    def post_step(self, cells):\n",
        "        values = cells.values.view(SigmaState)\n",
        "        fields = values.fields\n",
        "        \n",
        "        rho = values[..., fields.alpha]\n",
        "        rhoU = values[..., fields.rhoU]\n",
        "        rhoV = values[..., fields.rhoV]\n",
        "        rhoY = values[..., fields.rhoY]\n",
        "        rhoYw = values[..., fields.rhoYw]\n",
        "        rhoa = values[..., fields.rhoa]\n",
        "        rhoz = values[..., fields.rhoz]\n",
        "        \n",
        "        U = rhoU / rho\n",
        "        V = rhoV / rho\n",
        "        Y = rhoY / rho\n",
        "        Y2 = 1 - Y\n",
        "        w = rhoYw / rho / Y\n",
        "        alpha = rhoa / rho\n",
        "        alpha2 = 1 - alpha\n",
        "        z = rhoz / rho\n",
        "        Sigma = (rho ** (1/3)) * (z ** (2/3))\n",
        "        \n",
        "        surface_tension = self.problem.eos.surface_tension\n",
        "        \n",
        "        eos1 = self.problem.eos[0]\n",
        "        rho1 = rho * Y / alpha\n",
        "        p1 = eos1.p(rho1)\n",
        "        c1 = eos1.sound_velocity(rho1, p1)\n",
        "        \n",
        "        \n",
        "        rho2 = rho * Y2 / alpha2 \n",
        "        eos2 = self.problem.eos[1]\n",
        "        p2 = eos2.p(rho2)\n",
        "        c2 = eos2.sound_velocity(rho1, p1)\n",
        "        \n",
        "        P = alpha * p1 + alpha2 * p2 + 0.5 * rhoYw**2 \\\n",
        "            - 2/3 * surface_tension * Sigma\n",
        "        \n",
        "        c = np.sqrt(Y * c1**2 + Y2 * c2**2  + rho * (Y * w)**2 \\\n",
        "            + 2/9 * surface_tension * Sigma / rho)\n",
        "               \n",
        "        values[..., fields.U] = U\n",
        "        values[..., fields.V] = V\n",
        "        values[..., fields.P] = P\n",
        "        values[..., fields.c] = c\n",
        "        values[..., fields.Y] = Y\n",
        "        values[..., fields.w] = w\n",
        "        values[..., fields.alpha] = alpha\n",
        "        values[..., fields.z] = z"
      ]
    },
    {
      "cell_type": "markdown",
      "id": "copyrighted-niger",
      "metadata": {},
      "source": [
        "## Rusanov Scheme"
      ]
    },
    {
      "cell_type": "code",
      "execution_count": null,
      "id": "distributed-literacy",
      "metadata": {},
      "outputs": [],
      "source": [
        "from josie.euler.schemes import Rusanov as EulerRusanov\n",
        "\n",
        "class Rusanov(EulerRusanov):\n",
        "    def F(self, cells, neighs):\n",
        "\n",
        "        Q_L = cells.values.view(SigmaState)\n",
        "        Q_R = neighs.values.view(SigmaState)\n",
        "\n",
        "        fields = SigmaState.fields\n",
        "\n",
        "        FS = np.zeros_like(Q_L).view(SigmaState)\n",
        "\n",
        "        # Get normal velocities\n",
        "        U_L = self.compute_U_norm(Q_L, neighs.normals)\n",
        "        U_R = self.compute_U_norm(Q_R, neighs.normals)\n",
        "\n",
        "        # Speed of sound\n",
        "        c_L = Q_L[..., fields.c]\n",
        "        c_R = Q_R[..., fields.c]\n",
        "\n",
        "        sigma = self.compute_sigma(U_L, U_R, c_L, c_R)\n",
        "\n",
        "        DeltaF = 0.5 * (self.problem.F(cells) + self.problem.F(neighs))\n",
        "\n",
        "        # This is the flux tensor dot the normal\n",
        "        DeltaF = np.einsum(\"...kl,...l->...k\", DeltaF, neighs.normals)\n",
        "\n",
        "        # First four variables of the total state are the conservative\n",
        "        # variables (rho, rhoU, rhoV, rhoE)\n",
        "        Q_L_cons = Q_L.get_conservative()\n",
        "        Q_R_cons = Q_R.get_conservative()\n",
        "\n",
        "        DeltaQ = 0.5 * sigma * (Q_R_cons - Q_L_cons)\n",
        "\n",
        "        FS.set_conservative(\n",
        "            neighs.surfaces[..., np.newaxis] * (DeltaF - DeltaQ)\n",
        "        )\n",
        "\n",
        "        return FS"
      ]
    },
    {
      "cell_type": "markdown",
      "id": "aging-bench",
      "metadata": {},
      "source": [
        "## Define Solver"
      ]
    },
    {
      "cell_type": "code",
      "execution_count": null,
      "id": "comprehensive-rescue",
      "metadata": {},
      "outputs": [],
      "source": [
        "from josie.solver import Solver\n",
        "\n",
        "class SigmaSolver(Solver):\n",
        "    def __init__(self, mesh, scheme):\n",
        "\n",
        "        super().__init__(mesh, SigmaState, scheme)\n"
      ]
    }
  ],
  "metadata": {
    "kernelspec": {
      "display_name": "Python 3",
      "language": "python",
      "name": "python3"
    },
    "language_info": {
      "codemirror_mode": {
        "name": "ipython",
        "version": 3
      },
      "file_extension": ".py",
      "mimetype": "text/x-python",
      "name": "python",
      "nbconvert_exporter": "python",
      "pygments_lexer": "ipython3",
      "version": "3.9.2"
    }
  },
  "nbformat": 4,
  "nbformat_minor": 5
}
