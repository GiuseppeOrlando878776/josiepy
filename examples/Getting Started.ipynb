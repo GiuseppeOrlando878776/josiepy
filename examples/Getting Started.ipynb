{
  "cells": [
    {
      "cell_type": "code",
      "execution_count": null,
      "metadata": {
        "slideshow": {
          "slide_type": "skip"
        }
      },
      "outputs": [],
      "source": [
        "import numpy as np"
      ]
    },
    {
      "cell_type": "markdown",
      "metadata": {
        "slideshow": {
          "slide_type": "slide"
        }
      },
      "source": [
        "# <center>`josiepy`</center>\n",
        "## <center>A Python framework to simulate Partial Differential Equations focused on usability</center>\n",
        "### <center>(without sacrifying performances)</center>\n",
        "\n",
        "<div style=\"text-align:center;margin-top:1em\">\n",
        "    <i class=\"fa fa-user\"></i> Ruben Di Battista <br /> \n",
        "    <i class=\"fa fa-twitter\"></i> <a href=\"https://twitter.com/rdbisme\">@rdbisme</a><br /><br />\n",
        "</div>"
      ],
      "outputs": []
    },
    {
      "cell_type": "markdown",
      "metadata": {
        "slideshow": {
          "slide_type": "slide"
        }
      },
      "source": [
        "# Background\n",
        "----------------------\n",
        "## M. Massot Research Tem\n",
        "### Mathematical modeling\n",
        "- Mathematical modeling of two-phase injection in rocket engines\n",
        "- Mathematical modeling of plasma flows for heliophysics and hall thrusters\n",
        "\n",
        "### Numerical Calculus for High Performance Computing (HPC)\n",
        "- Development of numerical schemes and algorithms adapted to HPC\n",
        "\n"
      ],
      "outputs": []
    },
    {
      "cell_type": "markdown",
      "metadata": {
        "slideshow": {
          "slide_type": "subslide"
        }
      },
      "source": [
        "# `canoP`\n",
        "## A C++ wrapper on `p4est`, a quad/octo-trees for parallel AMR computation, to simulate PDEs w/ AMR\n",
        "\n",
        "- C++ is notoriously hard to master\n",
        "- `p4est` is an advanced library w/ features not immediately needed when exploring numerical schemes"
      ],
      "outputs": []
    },
    {
      "cell_type": "markdown",
      "metadata": {
        "slideshow": {
          "slide_type": "slide"
        }
      },
      "source": [
        "# Motivations\n",
        "--------------------\n",
        "\n",
        "An easy to use playground to easily implement numerical schemes on 1D, 2D (and maybe 3D in the future) structured (and maybe unstructured and non-conformal meshes... dreaming is still free 😇) meshes, in Python"
      ],
      "outputs": []
    },
    {
      "cell_type": "markdown",
      "metadata": {
        "slideshow": {
          "slide_type": "subslide"
        }
      },
      "source": [
        "# Design Choices\n",
        "--------------------------\n",
        "\n",
        "\n"
      ],
      "outputs": []
    },
    {
      "cell_type": "markdown",
      "metadata": {
        "slideshow": {
          "slide_type": "fragment"
        }
      },
      "source": [
        "- Use Python instead of a Domain Specific Language (DSL), like the one OpenFOAM uses, or another scripting language, like `lua` in `canoP` to describe your case configuration. "
      ],
      "outputs": []
    },
    {
      "cell_type": "markdown",
      "metadata": {
        "slideshow": {
          "slide_type": "fragment"
        }
      },
      "source": [
        "- Modern Python (Python >= 3.7) features allows static checking (through the usage of type hinting) of the code that predates some advantages of the compiled languages"
      ],
      "outputs": []
    },
    {
      "cell_type": "markdown",
      "metadata": {
        "slideshow": {
          "slide_type": "fragment"
        }
      },
      "source": [
        "- The `numpy` library and its API allows to write algorithms once while being able to run them on different architectures and different programming paradigms"
      ],
      "outputs": []
    },
    {
      "cell_type": "markdown",
      "metadata": {
        "slideshow": {
          "slide_type": "subslide"
        }
      },
      "source": [
        "   - CPU Shared memory ([numpy](https://numpy.org) + OpenMP-enable BLAS library)\n",
        "   - CPU distributed memory ([Dask](https://dask.org))\n",
        "   - Nvidia GPUs with CUDA ([cupy](https://cupy.chainer.org))\n",
        "   - (Soon) AMD GPUs with HIP ([cupy](https://cupy.chainer.org))\n",
        "   - ... FPGA? Anyone? It's a cool project too... \n",
        "   \n",
        "   Everything mostly at the same computational speed as C and C++, or faster (GPU for example)"
      ],
      "outputs": []
    },
    {
      "cell_type": "markdown",
      "metadata": {
        "slideshow": {
          "slide_type": "slide"
        }
      },
      "source": [
        "\n",
        "# Numpy for `josiepy` 101\n",
        "## Vectorized operations\n",
        "\n",
        "What you would generally do in a C++-like compiled code is: \n",
        "\n",
        "```\n",
        "for( cell : mesh.cells() ) {\n",
        "    apply_compute_kernel(cell)\n",
        "}\n",
        "\n",
        "```"
      ],
      "outputs": []
    },
    {
      "cell_type": "markdown",
      "metadata": {
        "slideshow": {
          "slide_type": "subslide"
        }
      },
      "source": [
        "What we generally will do in `numpy` is operating on an array containing **all** the cells values at the same time."
      ],
      "outputs": []
    },
    {
      "cell_type": "markdown",
      "metadata": {
        "slideshow": {
          "slide_type": "fragment"
        }
      },
      "source": [
        "Let's imagine we have the velocity vector stored in an array of size $N_\\text{cells} \\times \\text{dim}$, where $\\text{dim}$ is the dimensionality of the problem (e.g. 2D)"
      ],
      "outputs": []
    },
    {
      "cell_type": "code",
      "execution_count": null,
      "metadata": {},
      "outputs": [],
      "source": [
        "cell_values = np.random.random((30, 2))\n",
        "U = cell_values[:, 0]\n",
        "V = cell_values[:, 1]"
      ]
    },
    {
      "cell_type": "markdown",
      "metadata": {
        "slideshow": {
          "slide_type": "subslide"
        }
      },
      "source": [
        "Let's imagine now to have to compute a normal product between all the velocity values in each cell, and a singular \n",
        "normal vector"
      ],
      "outputs": []
    },
    {
      "cell_type": "code",
      "execution_count": null,
      "metadata": {},
      "outputs": [],
      "source": [
        "normal = np.array([1, 0])"
      ]
    },
    {
      "cell_type": "markdown",
      "metadata": {
        "slideshow": {
          "slide_type": "subslide"
        }
      },
      "source": [
        "What we could do is repeating the `normal` array $N_\\text{cells}$ times and multipliying it by `cell_values`..."
      ],
      "outputs": []
    },
    {
      "cell_type": "markdown",
      "metadata": {
        "slideshow": {
          "slide_type": "fragment"
        }
      },
      "source": [
        "... but there's a better way!\n",
        "The operation we want to do is\n",
        "\n",
        "$$\n",
        "    \\left\\{\\mathbf{U}\\right\\} \\cdot \\mathbf{n} = U_{ij}n_j\n",
        "$$"
      ],
      "outputs": []
    },
    {
      "cell_type": "code",
      "execution_count": null,
      "metadata": {
        "slideshow": {
          "slide_type": "fragment"
        }
      },
      "outputs": [],
      "source": [
        "normal_velocities = np.einsum(\"ij,j->i\", cell_values, normal)\n",
        "print(normal_velocities.shape)\n",
        "\n",
        "np.array_equal(U, normal_velocities)"
      ]
    },
    {
      "cell_type": "markdown",
      "metadata": {
        "slideshow": {
          "slide_type": "subslide"
        }
      },
      "source": [
        "`numpy.einsum` is an implementation of the Einstein's tensor summation on powerups. You specify the input vectors dimensions and the output dimension you want to achieve, and it figures it out automatically."
      ],
      "outputs": []
    },
    {
      "cell_type": "markdown",
      "metadata": {
        "slideshow": {
          "slide_type": "fragment"
        }
      },
      "source": [
        "Basically:\n",
        "$$\n",
        "U_{ij} n_j \\rightarrow u_j\n",
        "$$\n",
        "```\n",
        "np.einsum(\"ij,j->i\", cell_values, normal)\n",
        "```\n",
        "* Repeated indices on the inputs are summed as a result if they're not present in the result (after the `->`) are: `normal_velocities[i][0] * normal[0] + normal_velocities[i][1] * normal[1]`\n",
        "    \n",
        "* Indices that are not present on the right side of the statement, are multiplied"
      ],
      "outputs": []
    },
    {
      "cell_type": "markdown",
      "metadata": {
        "slideshow": {
          "slide_type": "subslide"
        }
      },
      "source": [
        "`np.einsum` avoids memory copies and if we provide the `optimize=True` keyword argument"
      ],
      "outputs": []
    },
    {
      "cell_type": "code",
      "execution_count": null,
      "metadata": {
        "slideshow": {
          "slide_type": "fragment"
        }
      },
      "outputs": [],
      "source": [
        "np.einsum(\"ij,j->i\", cell_values, normal, optimize=True)"
      ]
    },
    {
      "cell_type": "markdown",
      "metadata": {
        "slideshow": {
          "slide_type": "fragment"
        }
      },
      "source": [
        "it is gonna exploit parallelization of operations like `np.dot` and `np.tensordot` that are parallelized natively with OpenMP if the BLAS library which `numpy` is compiled on allows it \n",
        "\n",
        "(hint: the classical `pip install numpy` pre-compiled wheel, does not)"
      ],
      "outputs": []
    },
    {
      "cell_type": "markdown",
      "metadata": {
        "slideshow": {
          "slide_type": "slide"
        }
      },
      "source": [
        "## Vectorized conditionals\n",
        "\n",
        "Sometimes, for example to initialize the domain at the beginning of a simulation, or for an upwind scheme, you need to apply some conditionals of the type:"
      ],
      "outputs": []
    },
    {
      "cell_type": "markdown",
      "metadata": {
        "slideshow": {
          "slide_type": "fragment"
        }
      },
      "source": [
        "```\n",
        "for (cell : mesh.cells()) {\n",
        "    x, y = cell.centroid()\n",
        "    \n",
        "    if(x > 0.5) \n",
        "        right_state(cell)\n",
        "    else\n",
        "        left_state(cell)\n",
        "}\n",
        "```"
      ],
      "outputs": []
    },
    {
      "cell_type": "markdown",
      "metadata": {
        "slideshow": {
          "slide_type": "subslide"
        }
      },
      "source": [
        "What you would do in vectorized form, is:"
      ],
      "outputs": []
    },
    {
      "cell_type": "code",
      "execution_count": null,
      "metadata": {
        "slideshow": {
          "slide_type": "fragment"
        }
      },
      "outputs": [],
      "source": [
        "values = np.zeros(30)\n",
        "x = np.linspace(0, 1, np.size(values))\n",
        "print(values)"
      ]
    },
    {
      "cell_type": "code",
      "execution_count": null,
      "metadata": {
        "slideshow": {
          "slide_type": "fragment"
        }
      },
      "outputs": [],
      "source": [
        "values[np.where(x > 0.5)] = 1\n",
        "\n",
        "print(values)"
      ]
    },
    {
      "cell_type": "markdown",
      "metadata": {
        "slideshow": {
          "slide_type": "slide"
        }
      },
      "source": [
        "# Basics of `josiepy`"
      ],
      "outputs": []
    },
    {
      "cell_type": "markdown",
      "metadata": {
        "slideshow": {
          "slide_type": "fragment"
        }
      },
      "source": [
        "## Problem statement\n",
        "\n",
        "\\begin{equation}\n",
        "    \\partial_t \\mathbf{q} + \n",
        "    \\nabla \\cdot \\left(\\underline{\\underline{\\mathbf{F}}}(\\mathbf{q}) \n",
        "        + \\underline{\\underline{\\underline{\\underline{D(\\mathbf{q})}}}} \\cdot \\nabla \\mathbf{q} \\right) +\n",
        "    \\underline{\\underline{\\underline{\\mathbf{B}(\\mathbf{q})}}} \\cdot \\nabla\\mathbf{q} = \n",
        "    \\mathbf{s}(\\mathbf{q})\n",
        "\\end{equation}\n",
        "\n",
        "\n",
        "\\begin{equation}\n",
        "    \\partial_t q_p + \n",
        "    \\partial_{x_r} \\left(F_{pr}(q_p) + D_{pqrs}(q_p)\\partial_{x_s}q_q\\right) + \n",
        "    B_{pqr}\\partial_{x_r}q_q = \n",
        "    s_p(q_p)\n",
        "\\end{equation}\n"
      ],
      "outputs": []
    },
    {
      "cell_type": "markdown",
      "metadata": {
        "slideshow": {
          "slide_type": "subslide"
        }
      },
      "source": [
        "## The `State` object\n",
        "\n",
        "\\begin{equation}\n",
        "    \\partial_t \\mathbf{q} + \n",
        "    \\nabla \\cdot \\left(\\underline{\\underline{\\mathbf{F}}}(\\mathbf{q}) \n",
        "        + \\underline{\\underline{\\underline{\\underline{D(\\mathbf{q})}}}} \\cdot \\nabla \\mathbf{q} \\right) +\n",
        "    \\underline{\\underline{\\underline{\\mathbf{B}(\\mathbf{q})}}} \\cdot \\nabla\\mathbf{q} = \n",
        "    \\mathbf{s}(\\mathbf{q})\n",
        "\\end{equation}\n",
        "\n",
        "\n",
        "Represents the $\\mathbf{q}$"
      ],
      "outputs": []
    },
    {
      "cell_type": "code",
      "execution_count": null,
      "metadata": {
        "slideshow": {
          "slide_type": "fragment"
        }
      },
      "outputs": [],
      "source": [
        "from josie.solver.state import State\n",
        "from enum import IntEnum"
      ]
    },
    {
      "cell_type": "code",
      "execution_count": null,
      "metadata": {},
      "outputs": [],
      "source": [
        "class EulerFields(IntEnum):\n",
        "    rho = 0\n",
        "    rhoU = 1\n",
        "    rhoV = 2\n",
        "    rhoE = 3\n",
        "    U = 4\n",
        "    V = 5\n",
        "    rhoe = 6\n",
        "    p = 7\n",
        "    c = 8"
      ]
    },
    {
      "cell_type": "code",
      "execution_count": null,
      "metadata": {
        "slideshow": {
          "slide_type": "subslide"
        }
      },
      "outputs": [],
      "source": [
        "class EulerState(State):\n",
        "    fields = EulerFields\n",
        "    \n",
        "rnd_state = np.random.random(len(EulerFields)).view(EulerState)"
      ]
    },
    {
      "cell_type": "code",
      "execution_count": null,
      "metadata": {
        "slideshow": {
          "slide_type": "fragment"
        }
      },
      "outputs": [],
      "source": [
        "U1 = rnd_state[EulerFields.U]\n",
        "U2 = rnd_state[4]\n",
        "U3 = rnd_state[-5]\n",
        "U4 = rnd_state[rnd_state.fields.U]\n",
        "\n",
        "assert np.array_equal(U1, U2) and np.array_equal(U2, U3) and np.array_equal(U3, U4)\n"
      ]
    },
    {
      "cell_type": "markdown",
      "metadata": {
        "slideshow": {
          "slide_type": "subslide"
        }
      },
      "source": [
        "`State` can be multidimensional! (e.g. a 2D 100x100 mesh, each cell containing an Euler state)"
      ],
      "outputs": []
    },
    {
      "cell_type": "code",
      "execution_count": null,
      "metadata": {
        "slideshow": {
          "slide_type": "fragment"
        }
      },
      "outputs": [],
      "source": [
        "rnd_state = np.random.random((100, 100, len(EulerFields)))"
      ]
    },
    {
      "cell_type": "code",
      "execution_count": null,
      "metadata": {
        "slideshow": {
          "slide_type": "fragment"
        }
      },
      "outputs": [],
      "source": [
        "U = rnd_state[..., EulerFields.U]\n",
        "print(U.shape)"
      ]
    },
    {
      "cell_type": "code",
      "execution_count": null,
      "metadata": {
        "slideshow": {
          "slide_type": "fragment"
        }
      },
      "outputs": [],
      "source": [
        "rnd_state = np.random.random((100, 100, 100, len(EulerFields)))"
      ]
    },
    {
      "cell_type": "code",
      "execution_count": null,
      "metadata": {
        "slideshow": {
          "slide_type": "fragment"
        }
      },
      "outputs": [],
      "source": [
        "U = rnd_state[..., EulerFields.U]\n",
        "print(U.shape)"
      ]
    },
    {
      "cell_type": "markdown",
      "metadata": {
        "slideshow": {
          "slide_type": "subslide"
        }
      },
      "source": [
        "Let's compute the normal velocity again..."
      ],
      "outputs": []
    },
    {
      "cell_type": "code",
      "execution_count": null,
      "metadata": {
        "slideshow": {
          "slide_type": "subslide"
        }
      },
      "outputs": [],
      "source": [
        "UV = rnd_state[..., EulerFields.U : EulerFields.V + 1]\n",
        "\n",
        "print(UV.shape)\n"
      ]
    },
    {
      "cell_type": "code",
      "execution_count": null,
      "metadata": {
        "slideshow": {
          "slide_type": "fragment"
        }
      },
      "outputs": [],
      "source": [
        "U_norm = np.einsum(\"...ij,j->...i\", UV, normal)\n",
        "print(U_norm.shape)\n",
        "\n",
        "assert np.array_equal(U_norm, U)"
      ]
    },
    {
      "cell_type": "code",
      "execution_count": null,
      "metadata": {},
      "outputs": [],
      "source": []
    }
  ],
  "metadata": {
    "celltoolbar": "Slideshow",
    "kernelspec": {
      "display_name": "Python 3",
      "language": "python",
      "name": "python3"
    },
    "language_info": {
      "codemirror_mode": {
        "name": "ipython",
        "version": 3
      },
      "file_extension": ".py",
      "mimetype": "text/x-python",
      "name": "python",
      "nbconvert_exporter": "python",
      "pygments_lexer": "ipython3",
      "version": "3.7.6"
    }
  },
  "nbformat": 4,
  "nbformat_minor": 4
}
