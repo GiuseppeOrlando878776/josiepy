{
  "cells": [
    {
      "cell_type": "code",
      "execution_count": null,
      "metadata": {
        "slideshow": {
          "slide_type": "skip"
        }
      },
      "outputs": [],
      "source": [
        "%load_ext autoreload\n",
        "%autoreload 2\n",
        "%matplotlib notebook"
      ]
    },
    {
      "cell_type": "markdown",
      "metadata": {},
      "source": [
        "# Simulation of a Jet with Euler Equations"
      ]
    },
    {
      "cell_type": "code",
      "execution_count": null,
      "metadata": {},
      "outputs": [],
      "source": [
        "import numpy as np"
      ]
    },
    {
      "cell_type": "code",
      "execution_count": null,
      "metadata": {},
      "outputs": [],
      "source": [
        "from josie.bc import Dirichlet, Neumann, NeumannDirichlet\n",
        "from josie.boundary import Line\n",
        "from josie.euler.eos import PerfectGas\n",
        "from josie.euler.solver import EulerSolver\n",
        "from josie.euler.state import EulerState\n",
        "\n",
        "from josie.mesh import Mesh\n",
        "from josie.mesh.cell import SimpleCell\n",
        "\n",
        "left = Line([0, 0], [0, 1])\n",
        "bottom = Line([0, 0], [0.25, 0])\n",
        "right = Line([0.25, 0], [.25, 1])\n",
        "top = Line([0, 1], [0.25, 1])\n",
        "\n",
        "# EOS\n",
        "eos = PerfectGas(gamma=1.4)\n",
        "\n",
        "# Params\n",
        "JET_CENTER = 0.5\n",
        "JET_RADIUS = 0.05\n",
        "\n",
        "# Inlet\n",
        "U_JET = 1\n",
        "V_JET = 0\n",
        "RHO_JET = 1000\n",
        "P_JET = 1e3\n",
        "\n",
        "RHOe_JET = eos.rhoe(RHO_JET, P_JET)\n",
        "e_JET = RHOe_JET / RHO_JET\n",
        "E_JET = e_JET + 0.5 * (U_JET**2 + V_JET**2)\n",
        "C_JET = eos.sound_velocity(RHO_JET, P_JET)\n",
        "print(f\"Mach: {U_JET/C_JET}\")\n",
        "Q_JET = EulerState(RHO_JET, RHO_JET*U_JET, RHO_JET*V_JET, RHO_JET*E_JET, RHOe_JET, \n",
        "                   U_JET, V_JET, P_JET, C_JET, e_JET)\n",
        "\n",
        "# Field conditions at init\n",
        "U_INIT = 0\n",
        "V_INIT = 0\n",
        "RHO_INIT = RHO_JET/1000\n",
        "P_INIT = P_JET\n",
        "RHOe_INIT = eos.rhoe(RHO_INIT, P_INIT)\n",
        "e_INIT = RHOe_INIT / RHO_INIT\n",
        "E_INIT = e_INIT + 0.5 * (U_INIT**2 + V_INIT**2)\n",
        "C_INIT = eos.sound_velocity(RHO_INIT, P_INIT)\n",
        "\n",
        "print(f\"Mach: {U_INIT/C_INIT}\")\n",
        "\n",
        "Q_INIT = EulerState(RHO_INIT, RHO_INIT*U_INIT, RHO_INIT*V_INIT, RHO_INIT*E_INIT, RHOe_INIT, \n",
        "           U_INIT, V_INIT, P_INIT, C_INIT, e_INIT)\n",
        "\n",
        "# Neumann\n",
        "dQ = np.zeros(len(EulerState.fields)).view(EulerState)\n",
        "\n",
        "def partition_fun(centroids: np.ndarray):\n",
        "    yc = centroids[..., 1].flatten()\n",
        "    \n",
        "    # Partition cells of the inlet\n",
        "    idx = np.where((yc - JET_CENTER)**2 < JET_RADIUS**2)\n",
        "    \n",
        "    return idx\n",
        "\n",
        "\n",
        "# Assign BC to boundaries\n",
        "left.bc = NeumannDirichlet(dirichlet_value=Q_JET, neumann_value=dQ, partition_fun=partition_fun)\n",
        "# left.bc = Dirichlet(Q_JET)\n",
        "top.bc = Dirichlet(Q_INIT)\n",
        "right.bc = Neumann(dQ)\n",
        "bottom.bc = Dirichlet(Q_INIT)\n",
        "\n",
        "mesh = Mesh(left, bottom, right, top, SimpleCell)\n",
        "mesh.interpolate(25, 100)\n",
        "mesh.generate()\n",
        "mesh.write('mesh.xdmf')\n",
        "# mesh.plot()"
      ]
    },
    {
      "cell_type": "code",
      "execution_count": null,
      "metadata": {},
      "outputs": [],
      "source": [
        "# Scheme\n",
        "from josie.euler.schemes import Rusanov\n",
        "from josie.general.schemes.time import ExplicitEuler\n",
        "from josie.general.schemes.space import Godunov\n",
        "\n",
        "class MyScheme(Rusanov, ExplicitEuler, Godunov): \n",
        "    pass\n",
        "\n",
        "scheme = MyScheme(eos)\n",
        "\n",
        "\n",
        "\n",
        "solver = EulerSolver(mesh, scheme)\n",
        "\n",
        "\n",
        "def init_fun(solver): \n",
        "    solver.values[:] = Q_INIT\n",
        "    \n",
        "\n",
        "solver.init(init_fun)"
      ]
    },
    {
      "cell_type": "code",
      "execution_count": null,
      "metadata": {
        "tags": [
          "remove_output"
        ]
      },
      "outputs": [],
      "source": [
        "from josie.io.write.strategy import TimeStrategy\n",
        "from josie.io.write.writer import XDMFWriter\n",
        "writer = XDMFWriter(\"euler.xdmf\", TimeStrategy(dt_save=0.01, animate=True), solver, final_time=1, CFL=0.2)\n",
        "writer.solve()"
      ]
    },
    {
      "cell_type": "code",
      "execution_count": null,
      "metadata": {},
      "outputs": [],
      "source": [
        "solver.show(\"rho\")"
      ]
    }
  ],
  "metadata": {
    "celltoolbar": "Slideshow",
    "kernelspec": {
      "display_name": "Python 3",
      "language": "python",
      "name": "python3"
    },
    "language_info": {
      "codemirror_mode": {
        "name": "ipython",
        "version": 3
      },
      "file_extension": ".py",
      "mimetype": "text/x-python",
      "name": "python",
      "nbconvert_exporter": "python",
      "pygments_lexer": "ipython3",
      "version": "3.9.2"
    }
  },
  "nbformat": 4,
  "nbformat_minor": 2
}
