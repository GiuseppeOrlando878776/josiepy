{
 "cells": [
  {
   "cell_type": "code",
   "execution_count": 1,
   "metadata": {
    "slideshow": {
     "slide_type": "skip"
    }
   },
   "outputs": [],
   "source": [
    "%load_ext autoreload\n",
    "%autoreload 2\n",
    "%matplotlib notebook\n",
    "\n",
    "import numpy as np"
   ]
  },
  {
   "cell_type": "markdown",
   "metadata": {
    "slideshow": {
     "slide_type": "slide"
    }
   },
   "source": [
    "# Implementing a solver for the advection equation"
   ]
  },
  {
   "cell_type": "markdown",
   "metadata": {
    "slideshow": {
     "slide_type": "fragment"
    }
   },
   "source": [
    "We're going to write all the necessary objects to solve the following equation:\n",
    "\n",
    "\\begin{equation}\n",
    "    \\partial_t \\varphi + \\mathbf{u} \\cdot \\nabla \\varphi = 0\n",
    "\\end{equation}"
   ]
  },
  {
   "cell_type": "markdown",
   "metadata": {
    "slideshow": {
     "slide_type": "fragment"
    }
   },
   "source": [
    "That, compared to our generalized model:\n",
    "\\begin{equation}\n",
    "    \\partial_t \\mathbf{q} + \n",
    "    \\nabla \\cdot \\left(\\underline{\\underline{\\mathbf{F}}}(\\mathbf{q}) \n",
    "        + \\underline{\\underline{\\underline{\\underline{D(\\mathbf{q})}}}} \\cdot \\nabla \\mathbf{q} \\right) +\n",
    "    \\underline{\\underline{\\underline{\\mathbf{B}(\\mathbf{q})}}} \\cdot \\nabla\\mathbf{q} = \n",
    "    \\mathbf{s}(\\mathbf{q})\n",
    "\\end{equation}"
   ]
  },
  {
   "cell_type": "markdown",
   "metadata": {
    "slideshow": {
     "slide_type": "fragment"
    }
   },
   "source": [
    "Gives $\\mathbf{q} = \\left\\{\\varphi\\right\\}$\n",
    "$\\mathbf{F} = \\underline{\\underline{\\mathbf{0}}}$, \n",
    "$\\mathbf{D} = \\underline{\\underline{\\underline{\\underline{\\mathbf{0}}}}}$"
   ]
  },
  {
   "cell_type": "markdown",
   "metadata": {
    "slideshow": {
     "slide_type": "subslide"
    }
   },
   "source": [
    "So our problem needs just to provide $\\mathbf{B}$.\n",
    "\\begin{equation}\n",
    "    B_{pqr} = u_r\n",
    "\\end{equation}"
   ]
  },
  {
   "cell_type": "markdown",
   "metadata": {
    "slideshow": {
     "slide_type": "slide"
    }
   },
   "source": [
    "## `State`"
   ]
  },
  {
   "cell_type": "code",
   "execution_count": 2,
   "metadata": {},
   "outputs": [],
   "source": [
    "from josie.solver.state import State\n",
    "from enum import IntEnum\n",
    "\n",
    "class AdvectionFields(IntEnum):\n",
    "    phi = 0\n",
    "    \n",
    "class AdvectionState(State):\n",
    "    fields = AdvectionFields"
   ]
  },
  {
   "cell_type": "markdown",
   "metadata": {
    "slideshow": {
     "slide_type": "slide"
    }
   },
   "source": [
    "## `Problem`\n",
    "\n",
    "We just need to implement the $\\mathbf{B}(\\mathbf{q})$ operator"
   ]
  },
  {
   "cell_type": "code",
   "execution_count": 3,
   "metadata": {
    "slideshow": {
     "slide_type": "fragment"
    }
   },
   "outputs": [],
   "source": [
    "from josie.solver.problem import Problem\n",
    "\n",
    "Problem??"
   ]
  },
  {
   "cell_type": "code",
   "execution_count": 4,
   "metadata": {
    "slideshow": {
     "slide_type": "fragment"
    }
   },
   "outputs": [],
   "source": [
    "from josie.mesh.cellset import CellSet, MeshCellSet\n",
    "\n",
    "class AdvectionProblem(Problem):\n",
    "    V = np.array([1, 0])\n",
    "    \n",
    "    DIMENSIONALITY = 2 ## 2D\n",
    "    \n",
    "    def B(self, cells: CellSet):\n",
    "        values: AdvectionState = cells.values\n",
    "        nx, ny, num_fields = values.shape\n",
    "        fields = values.fields\n",
    "        \n",
    "        B = np.zeros((nx, ny, num_fields, num_fields, self.DIMENSIONALITY))\n",
    "        \n",
    "        B[..., fields.phi, : ] = self.V\n",
    "        \n",
    "        return B"
   ]
  },
  {
   "cell_type": "markdown",
   "metadata": {
    "slideshow": {
     "slide_type": "slide"
    }
   },
   "source": [
    "## `Scheme`\n",
    "![cell_scheme](data:image/svg+xml;base64,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)"
   ]
  },
  {
   "cell_type": "markdown",
   "metadata": {
    "slideshow": {
     "slide_type": "fragment"
    }
   },
   "source": [
    "We just need to implement the \n",
    "\\begin{equation}\n",
    "    \\mathbf{G}_{\\frac{1}{2}}(\\mathbf{q}) = \n",
    "    \\left| \\mathbf{q}\\hat{\\mathbf{n}} \\right|_f S_f \\Rightarrow\n",
    "    \\left| \\varphi \\hat{\\mathbf{n}}\\right|_f S_f \n",
    "\\end{equation}"
   ]
  },
  {
   "cell_type": "code",
   "execution_count": 5,
   "metadata": {
    "slideshow": {
     "slide_type": "subslide"
    }
   },
   "outputs": [],
   "source": [
    "from josie.solver.scheme.nonconservative import NonConservativeScheme\n",
    "\n",
    "NonConservativeScheme??"
   ]
  },
  {
   "cell_type": "code",
   "execution_count": 6,
   "metadata": {
    "slideshow": {
     "slide_type": "fragment"
    }
   },
   "outputs": [],
   "source": [
    "\n",
    "class Upwind(NonConservativeScheme):\n",
    "    def G(self, cells: MeshCellSet, neighs: CellSet):\n",
    "        V = self.problem.V\n",
    "        \n",
    "        # Get the normal velocities (that are equal everywhere) per each cell\n",
    "        Vn = np.einsum(\"j,...j->...\", V, neighs.normals)\n",
    "        \n",
    "        # Need to add a dimension because the contraction removes it\n",
    "        Vn = Vn[..., np.newaxis]\n",
    "        \n",
    "        fluxes = np.zeros_like(cells.values)\n",
    "        \n",
    "        # We use the cell value where Vn > 0 \n",
    "        np.copyto(fluxes, cells.values, where=(Vn>0))\n",
    "        \n",
    "        # We use the neighbour value otherwise\n",
    "        np.copyto(fluxes, neighs.values, where=(Vn<=0))\n",
    "        \n",
    "        # Multiply by the surface\n",
    "        FS = fluxes * neighs.surfaces[..., np.newaxis]\n",
    "        \n",
    "        # Multiply by the normal \n",
    "        FS = np.einsum(\"...i,...k->...k\", FS, neighs.normals) \n",
    "        \n",
    "        return FS"
   ]
  },
  {
   "cell_type": "markdown",
   "metadata": {
    "slideshow": {
     "slide_type": "slide"
    }
   },
   "source": [
    "## `Mesh`\n",
    "We generated a 1D mesh"
   ]
  },
  {
   "cell_type": "code",
   "execution_count": 7,
   "metadata": {
    "slideshow": {
     "slide_type": "fragment"
    }
   },
   "outputs": [],
   "source": [
    "from josie.geom import Line\n",
    "\n",
    "left = Line([0, 0], [0, 1])\n",
    "bottom = Line([0, 0], [1, 0])\n",
    "right = Line([1, 0], [1, 1])\n",
    "top = Line([0, 1], [1, 1])"
   ]
  },
  {
   "cell_type": "markdown",
   "metadata": {
    "slideshow": {
     "slide_type": "fragment"
    }
   },
   "source": [
    "We apply periodic boundary condition along the x-axis (no BC on y-axis since it's a 1D simulation)"
   ]
  },
  {
   "cell_type": "code",
   "execution_count": 8,
   "metadata": {
    "slideshow": {
     "slide_type": "fragment"
    }
   },
   "outputs": [],
   "source": [
    "from josie.bc import make_periodic, Direction\n",
    "\n",
    "left, right = make_periodic(left, right, Direction.X)\n",
    "top.bc = None\n",
    "bottom.bc = None"
   ]
  },
  {
   "cell_type": "code",
   "execution_count": 9,
   "metadata": {
    "slideshow": {
     "slide_type": "subslide"
    }
   },
   "outputs": [],
   "source": [
    "from josie.mesh import Mesh\n",
    "from josie.mesh.cell import SimpleCell\n",
    "mesh = Mesh(left, bottom, right, top, SimpleCell)\n",
    "mesh.interpolate(300, 1)\n",
    "mesh.generate()"
   ]
  },
  {
   "cell_type": "markdown",
   "metadata": {
    "slideshow": {
     "slide_type": "slide"
    }
   },
   "source": [
    "## `Solver`\n",
    "\n",
    "Let's assemble our scheme, that still needs the time scheme, and a CFL method"
   ]
  },
  {
   "cell_type": "code",
   "execution_count": 16,
   "metadata": {
    "slideshow": {
     "slide_type": "fragment"
    }
   },
   "outputs": [],
   "source": [
    "from josie.general.schemes.time import ExplicitEuler\n",
    "\n",
    "class AdvectionScheme(Upwind, ExplicitEuler):\n",
    "    def CFL(\n",
    "        self,\n",
    "        cells: MeshCellSet,\n",
    "        CFL_value: float,\n",
    "    ) -> float:\n",
    "\n",
    "        U_abs = np.linalg.norm(self.problem.V)\n",
    "        dx = np.min(cells.surfaces)\n",
    "\n",
    "        return CFL_value * dx / U_abs\n",
    "\n",
    "\n",
    "scheme = AdvectionScheme(AdvectionProblem())\n"
   ]
  },
  {
   "cell_type": "code",
   "execution_count": 17,
   "metadata": {
    "slideshow": {
     "slide_type": "subslide"
    }
   },
   "outputs": [],
   "source": [
    "from josie.solver.solver import Solver\n",
    "\n",
    "solver = Solver(mesh, AdvectionState, scheme)"
   ]
  },
  {
   "cell_type": "markdown",
   "metadata": {
    "slideshow": {
     "slide_type": "fragment"
    }
   },
   "source": [
    "We need now to define an initialization function to initialize the domain"
   ]
  },
  {
   "cell_type": "code",
   "execution_count": 18,
   "metadata": {
    "slideshow": {
     "slide_type": "fragment"
    }
   },
   "outputs": [],
   "source": [
    "def init_fun(cells: MeshCellSet):\n",
    "    xc = cells.centroids[..., 0]\n",
    "\n",
    "    xc_r = np.where(xc >= 0.5)\n",
    "    xc_l = np.where(xc < 0.5)\n",
    "\n",
    "    cells.values[xc_r[0], xc_r[1], ...] = 1\n",
    "    cells.values[xc_l[0], xc_l[1], ...] = 0"
   ]
  },
  {
   "cell_type": "markdown",
   "metadata": {
    "slideshow": {
     "slide_type": "subslide"
    }
   },
   "source": [
    "### Run the simulation"
   ]
  },
  {
   "cell_type": "markdown",
   "metadata": {},
   "source": [
    "Let's initialize the solver state"
   ]
  },
  {
   "cell_type": "code",
   "execution_count": 19,
   "metadata": {
    "slideshow": {
     "slide_type": "fragment"
    }
   },
   "outputs": [],
   "source": [
    "solver.init(init_fun)\n",
    "\n",
    "# Plotting stuff\n",
    "import matplotlib.pyplot as plt\n",
    "import copy\n",
    "\n",
    "from matplotlib.animation import ArtistAnimation\n",
    "solution = []\n",
    "\n",
    "t = 0\n",
    "final_time = 1\n",
    "CFL = 0.5"
   ]
  },
  {
   "cell_type": "markdown",
   "metadata": {
    "slideshow": {
     "slide_type": "subslide"
    }
   },
   "source": [
    "Let's iterate in time choosing a time-based writing strategy (save every $0.01s$) to memory"
   ]
  },
  {
   "cell_type": "code",
   "execution_count": 20,
   "metadata": {
    "scrolled": true,
    "slideshow": {
     "slide_type": "fragment"
    },
    "tags": [
     "remove_output"
    ]
   },
   "outputs": [],
   "source": [
    "from josie.io.write.strategy import TimeStrategy\n",
    "from josie.io.write.writer import MemoryWriter \n",
    "\n",
    "strategy = TimeStrategy(dt_save=0.01)\n",
    "writer = MemoryWriter(strategy, solver, final_time, CFL)\n",
    "writer.solve()"
   ]
  },
  {
   "cell_type": "code",
   "execution_count": 21,
   "metadata": {
    "slideshow": {
     "slide_type": "subslide"
    }
   },
   "outputs": [
    {
     "data": {
      "application/javascript": [
       "/* Put everything inside the global mpl namespace */\n",
       "window.mpl = {};\n",
       "\n",
       "\n",
       "mpl.get_websocket_type = function() {\n",
       "    if (typeof(WebSocket) !== 'undefined') {\n",
       "        return WebSocket;\n",
       "    } else if (typeof(MozWebSocket) !== 'undefined') {\n",
       "        return MozWebSocket;\n",
       "    } else {\n",
       "        alert('Your browser does not have WebSocket support. ' +\n",
       "              'Please try Chrome, Safari or Firefox ≥ 6. ' +\n",
       "              'Firefox 4 and 5 are also supported but you ' +\n",
       "              'have to enable WebSockets in about:config.');\n",
       "    };\n",
       "}\n",
       "\n",
       "mpl.figure = function(figure_id, websocket, ondownload, parent_element) {\n",
       "    this.id = figure_id;\n",
       "\n",
       "    this.ws = websocket;\n",
       "\n",
       "    this.supports_binary = (this.ws.binaryType != undefined);\n",
       "\n",
       "    if (!this.supports_binary) {\n",
       "        var warnings = document.getElementById(\"mpl-warnings\");\n",
       "        if (warnings) {\n",
       "            warnings.style.display = 'block';\n",
       "            warnings.textContent = (\n",
       "                \"This browser does not support binary websocket messages. \" +\n",
       "                    \"Performance may be slow.\");\n",
       "        }\n",
       "    }\n",
       "\n",
       "    this.imageObj = new Image();\n",
       "\n",
       "    this.context = undefined;\n",
       "    this.message = undefined;\n",
       "    this.canvas = undefined;\n",
       "    this.rubberband_canvas = undefined;\n",
       "    this.rubberband_context = undefined;\n",
       "    this.format_dropdown = undefined;\n",
       "\n",
       "    this.image_mode = 'full';\n",
       "\n",
       "    this.root = $('<div/>');\n",
       "    this._root_extra_style(this.root)\n",
       "    this.root.attr('style', 'display: inline-block');\n",
       "\n",
       "    $(parent_element).append(this.root);\n",
       "\n",
       "    this._init_header(this);\n",
       "    this._init_canvas(this);\n",
       "    this._init_toolbar(this);\n",
       "\n",
       "    var fig = this;\n",
       "\n",
       "    this.waiting = false;\n",
       "\n",
       "    this.ws.onopen =  function () {\n",
       "            fig.send_message(\"supports_binary\", {value: fig.supports_binary});\n",
       "            fig.send_message(\"send_image_mode\", {});\n",
       "            if (mpl.ratio != 1) {\n",
       "                fig.send_message(\"set_dpi_ratio\", {'dpi_ratio': mpl.ratio});\n",
       "            }\n",
       "            fig.send_message(\"refresh\", {});\n",
       "        }\n",
       "\n",
       "    this.imageObj.onload = function() {\n",
       "            if (fig.image_mode == 'full') {\n",
       "                // Full images could contain transparency (where diff images\n",
       "                // almost always do), so we need to clear the canvas so that\n",
       "                // there is no ghosting.\n",
       "                fig.context.clearRect(0, 0, fig.canvas.width, fig.canvas.height);\n",
       "            }\n",
       "            fig.context.drawImage(fig.imageObj, 0, 0);\n",
       "        };\n",
       "\n",
       "    this.imageObj.onunload = function() {\n",
       "        fig.ws.close();\n",
       "    }\n",
       "\n",
       "    this.ws.onmessage = this._make_on_message_function(this);\n",
       "\n",
       "    this.ondownload = ondownload;\n",
       "}\n",
       "\n",
       "mpl.figure.prototype._init_header = function() {\n",
       "    var titlebar = $(\n",
       "        '<div class=\"ui-dialog-titlebar ui-widget-header ui-corner-all ' +\n",
       "        'ui-helper-clearfix\"/>');\n",
       "    var titletext = $(\n",
       "        '<div class=\"ui-dialog-title\" style=\"width: 100%; ' +\n",
       "        'text-align: center; padding: 3px;\"/>');\n",
       "    titlebar.append(titletext)\n",
       "    this.root.append(titlebar);\n",
       "    this.header = titletext[0];\n",
       "}\n",
       "\n",
       "\n",
       "\n",
       "mpl.figure.prototype._canvas_extra_style = function(canvas_div) {\n",
       "\n",
       "}\n",
       "\n",
       "\n",
       "mpl.figure.prototype._root_extra_style = function(canvas_div) {\n",
       "\n",
       "}\n",
       "\n",
       "mpl.figure.prototype._init_canvas = function() {\n",
       "    var fig = this;\n",
       "\n",
       "    var canvas_div = $('<div/>');\n",
       "\n",
       "    canvas_div.attr('style', 'position: relative; clear: both; outline: 0');\n",
       "\n",
       "    function canvas_keyboard_event(event) {\n",
       "        return fig.key_event(event, event['data']);\n",
       "    }\n",
       "\n",
       "    canvas_div.keydown('key_press', canvas_keyboard_event);\n",
       "    canvas_div.keyup('key_release', canvas_keyboard_event);\n",
       "    this.canvas_div = canvas_div\n",
       "    this._canvas_extra_style(canvas_div)\n",
       "    this.root.append(canvas_div);\n",
       "\n",
       "    var canvas = $('<canvas/>');\n",
       "    canvas.addClass('mpl-canvas');\n",
       "    canvas.attr('style', \"left: 0; top: 0; z-index: 0; outline: 0\")\n",
       "\n",
       "    this.canvas = canvas[0];\n",
       "    this.context = canvas[0].getContext(\"2d\");\n",
       "\n",
       "    var backingStore = this.context.backingStorePixelRatio ||\n",
       "\tthis.context.webkitBackingStorePixelRatio ||\n",
       "\tthis.context.mozBackingStorePixelRatio ||\n",
       "\tthis.context.msBackingStorePixelRatio ||\n",
       "\tthis.context.oBackingStorePixelRatio ||\n",
       "\tthis.context.backingStorePixelRatio || 1;\n",
       "\n",
       "    mpl.ratio = (window.devicePixelRatio || 1) / backingStore;\n",
       "\n",
       "    var rubberband = $('<canvas/>');\n",
       "    rubberband.attr('style', \"position: absolute; left: 0; top: 0; z-index: 1;\")\n",
       "\n",
       "    var pass_mouse_events = true;\n",
       "\n",
       "    canvas_div.resizable({\n",
       "        start: function(event, ui) {\n",
       "            pass_mouse_events = false;\n",
       "        },\n",
       "        resize: function(event, ui) {\n",
       "            fig.request_resize(ui.size.width, ui.size.height);\n",
       "        },\n",
       "        stop: function(event, ui) {\n",
       "            pass_mouse_events = true;\n",
       "            fig.request_resize(ui.size.width, ui.size.height);\n",
       "        },\n",
       "    });\n",
       "\n",
       "    function mouse_event_fn(event) {\n",
       "        if (pass_mouse_events)\n",
       "            return fig.mouse_event(event, event['data']);\n",
       "    }\n",
       "\n",
       "    rubberband.mousedown('button_press', mouse_event_fn);\n",
       "    rubberband.mouseup('button_release', mouse_event_fn);\n",
       "    // Throttle sequential mouse events to 1 every 20ms.\n",
       "    rubberband.mousemove('motion_notify', mouse_event_fn);\n",
       "\n",
       "    rubberband.mouseenter('figure_enter', mouse_event_fn);\n",
       "    rubberband.mouseleave('figure_leave', mouse_event_fn);\n",
       "\n",
       "    canvas_div.on(\"wheel\", function (event) {\n",
       "        event = event.originalEvent;\n",
       "        event['data'] = 'scroll'\n",
       "        if (event.deltaY < 0) {\n",
       "            event.step = 1;\n",
       "        } else {\n",
       "            event.step = -1;\n",
       "        }\n",
       "        mouse_event_fn(event);\n",
       "    });\n",
       "\n",
       "    canvas_div.append(canvas);\n",
       "    canvas_div.append(rubberband);\n",
       "\n",
       "    this.rubberband = rubberband;\n",
       "    this.rubberband_canvas = rubberband[0];\n",
       "    this.rubberband_context = rubberband[0].getContext(\"2d\");\n",
       "    this.rubberband_context.strokeStyle = \"#000000\";\n",
       "\n",
       "    this._resize_canvas = function(width, height) {\n",
       "        // Keep the size of the canvas, canvas container, and rubber band\n",
       "        // canvas in synch.\n",
       "        canvas_div.css('width', width)\n",
       "        canvas_div.css('height', height)\n",
       "\n",
       "        canvas.attr('width', width * mpl.ratio);\n",
       "        canvas.attr('height', height * mpl.ratio);\n",
       "        canvas.attr('style', 'width: ' + width + 'px; height: ' + height + 'px;');\n",
       "\n",
       "        rubberband.attr('width', width);\n",
       "        rubberband.attr('height', height);\n",
       "    }\n",
       "\n",
       "    // Set the figure to an initial 600x600px, this will subsequently be updated\n",
       "    // upon first draw.\n",
       "    this._resize_canvas(600, 600);\n",
       "\n",
       "    // Disable right mouse context menu.\n",
       "    $(this.rubberband_canvas).bind(\"contextmenu\",function(e){\n",
       "        return false;\n",
       "    });\n",
       "\n",
       "    function set_focus () {\n",
       "        canvas.focus();\n",
       "        canvas_div.focus();\n",
       "    }\n",
       "\n",
       "    window.setTimeout(set_focus, 100);\n",
       "}\n",
       "\n",
       "mpl.figure.prototype._init_toolbar = function() {\n",
       "    var fig = this;\n",
       "\n",
       "    var nav_element = $('<div/>');\n",
       "    nav_element.attr('style', 'width: 100%');\n",
       "    this.root.append(nav_element);\n",
       "\n",
       "    // Define a callback function for later on.\n",
       "    function toolbar_event(event) {\n",
       "        return fig.toolbar_button_onclick(event['data']);\n",
       "    }\n",
       "    function toolbar_mouse_event(event) {\n",
       "        return fig.toolbar_button_onmouseover(event['data']);\n",
       "    }\n",
       "\n",
       "    for(var toolbar_ind in mpl.toolbar_items) {\n",
       "        var name = mpl.toolbar_items[toolbar_ind][0];\n",
       "        var tooltip = mpl.toolbar_items[toolbar_ind][1];\n",
       "        var image = mpl.toolbar_items[toolbar_ind][2];\n",
       "        var method_name = mpl.toolbar_items[toolbar_ind][3];\n",
       "\n",
       "        if (!name) {\n",
       "            // put a spacer in here.\n",
       "            continue;\n",
       "        }\n",
       "        var button = $('<button/>');\n",
       "        button.addClass('ui-button ui-widget ui-state-default ui-corner-all ' +\n",
       "                        'ui-button-icon-only');\n",
       "        button.attr('role', 'button');\n",
       "        button.attr('aria-disabled', 'false');\n",
       "        button.click(method_name, toolbar_event);\n",
       "        button.mouseover(tooltip, toolbar_mouse_event);\n",
       "\n",
       "        var icon_img = $('<span/>');\n",
       "        icon_img.addClass('ui-button-icon-primary ui-icon');\n",
       "        icon_img.addClass(image);\n",
       "        icon_img.addClass('ui-corner-all');\n",
       "\n",
       "        var tooltip_span = $('<span/>');\n",
       "        tooltip_span.addClass('ui-button-text');\n",
       "        tooltip_span.html(tooltip);\n",
       "\n",
       "        button.append(icon_img);\n",
       "        button.append(tooltip_span);\n",
       "\n",
       "        nav_element.append(button);\n",
       "    }\n",
       "\n",
       "    var fmt_picker_span = $('<span/>');\n",
       "\n",
       "    var fmt_picker = $('<select/>');\n",
       "    fmt_picker.addClass('mpl-toolbar-option ui-widget ui-widget-content');\n",
       "    fmt_picker_span.append(fmt_picker);\n",
       "    nav_element.append(fmt_picker_span);\n",
       "    this.format_dropdown = fmt_picker[0];\n",
       "\n",
       "    for (var ind in mpl.extensions) {\n",
       "        var fmt = mpl.extensions[ind];\n",
       "        var option = $(\n",
       "            '<option/>', {selected: fmt === mpl.default_extension}).html(fmt);\n",
       "        fmt_picker.append(option);\n",
       "    }\n",
       "\n",
       "    // Add hover states to the ui-buttons\n",
       "    $( \".ui-button\" ).hover(\n",
       "        function() { $(this).addClass(\"ui-state-hover\");},\n",
       "        function() { $(this).removeClass(\"ui-state-hover\");}\n",
       "    );\n",
       "\n",
       "    var status_bar = $('<span class=\"mpl-message\"/>');\n",
       "    nav_element.append(status_bar);\n",
       "    this.message = status_bar[0];\n",
       "}\n",
       "\n",
       "mpl.figure.prototype.request_resize = function(x_pixels, y_pixels) {\n",
       "    // Request matplotlib to resize the figure. Matplotlib will then trigger a resize in the client,\n",
       "    // which will in turn request a refresh of the image.\n",
       "    this.send_message('resize', {'width': x_pixels, 'height': y_pixels});\n",
       "}\n",
       "\n",
       "mpl.figure.prototype.send_message = function(type, properties) {\n",
       "    properties['type'] = type;\n",
       "    properties['figure_id'] = this.id;\n",
       "    this.ws.send(JSON.stringify(properties));\n",
       "}\n",
       "\n",
       "mpl.figure.prototype.send_draw_message = function() {\n",
       "    if (!this.waiting) {\n",
       "        this.waiting = true;\n",
       "        this.ws.send(JSON.stringify({type: \"draw\", figure_id: this.id}));\n",
       "    }\n",
       "}\n",
       "\n",
       "\n",
       "mpl.figure.prototype.handle_save = function(fig, msg) {\n",
       "    var format_dropdown = fig.format_dropdown;\n",
       "    var format = format_dropdown.options[format_dropdown.selectedIndex].value;\n",
       "    fig.ondownload(fig, format);\n",
       "}\n",
       "\n",
       "\n",
       "mpl.figure.prototype.handle_resize = function(fig, msg) {\n",
       "    var size = msg['size'];\n",
       "    if (size[0] != fig.canvas.width || size[1] != fig.canvas.height) {\n",
       "        fig._resize_canvas(size[0], size[1]);\n",
       "        fig.send_message(\"refresh\", {});\n",
       "    };\n",
       "}\n",
       "\n",
       "mpl.figure.prototype.handle_rubberband = function(fig, msg) {\n",
       "    var x0 = msg['x0'] / mpl.ratio;\n",
       "    var y0 = (fig.canvas.height - msg['y0']) / mpl.ratio;\n",
       "    var x1 = msg['x1'] / mpl.ratio;\n",
       "    var y1 = (fig.canvas.height - msg['y1']) / mpl.ratio;\n",
       "    x0 = Math.floor(x0) + 0.5;\n",
       "    y0 = Math.floor(y0) + 0.5;\n",
       "    x1 = Math.floor(x1) + 0.5;\n",
       "    y1 = Math.floor(y1) + 0.5;\n",
       "    var min_x = Math.min(x0, x1);\n",
       "    var min_y = Math.min(y0, y1);\n",
       "    var width = Math.abs(x1 - x0);\n",
       "    var height = Math.abs(y1 - y0);\n",
       "\n",
       "    fig.rubberband_context.clearRect(\n",
       "        0, 0, fig.canvas.width / mpl.ratio, fig.canvas.height / mpl.ratio);\n",
       "\n",
       "    fig.rubberband_context.strokeRect(min_x, min_y, width, height);\n",
       "}\n",
       "\n",
       "mpl.figure.prototype.handle_figure_label = function(fig, msg) {\n",
       "    // Updates the figure title.\n",
       "    fig.header.textContent = msg['label'];\n",
       "}\n",
       "\n",
       "mpl.figure.prototype.handle_cursor = function(fig, msg) {\n",
       "    var cursor = msg['cursor'];\n",
       "    switch(cursor)\n",
       "    {\n",
       "    case 0:\n",
       "        cursor = 'pointer';\n",
       "        break;\n",
       "    case 1:\n",
       "        cursor = 'default';\n",
       "        break;\n",
       "    case 2:\n",
       "        cursor = 'crosshair';\n",
       "        break;\n",
       "    case 3:\n",
       "        cursor = 'move';\n",
       "        break;\n",
       "    }\n",
       "    fig.rubberband_canvas.style.cursor = cursor;\n",
       "}\n",
       "\n",
       "mpl.figure.prototype.handle_message = function(fig, msg) {\n",
       "    fig.message.textContent = msg['message'];\n",
       "}\n",
       "\n",
       "mpl.figure.prototype.handle_draw = function(fig, msg) {\n",
       "    // Request the server to send over a new figure.\n",
       "    fig.send_draw_message();\n",
       "}\n",
       "\n",
       "mpl.figure.prototype.handle_image_mode = function(fig, msg) {\n",
       "    fig.image_mode = msg['mode'];\n",
       "}\n",
       "\n",
       "mpl.figure.prototype.updated_canvas_event = function() {\n",
       "    // Called whenever the canvas gets updated.\n",
       "    this.send_message(\"ack\", {});\n",
       "}\n",
       "\n",
       "// A function to construct a web socket function for onmessage handling.\n",
       "// Called in the figure constructor.\n",
       "mpl.figure.prototype._make_on_message_function = function(fig) {\n",
       "    return function socket_on_message(evt) {\n",
       "        if (evt.data instanceof Blob) {\n",
       "            /* FIXME: We get \"Resource interpreted as Image but\n",
       "             * transferred with MIME type text/plain:\" errors on\n",
       "             * Chrome.  But how to set the MIME type?  It doesn't seem\n",
       "             * to be part of the websocket stream */\n",
       "            evt.data.type = \"image/png\";\n",
       "\n",
       "            /* Free the memory for the previous frames */\n",
       "            if (fig.imageObj.src) {\n",
       "                (window.URL || window.webkitURL).revokeObjectURL(\n",
       "                    fig.imageObj.src);\n",
       "            }\n",
       "\n",
       "            fig.imageObj.src = (window.URL || window.webkitURL).createObjectURL(\n",
       "                evt.data);\n",
       "            fig.updated_canvas_event();\n",
       "            fig.waiting = false;\n",
       "            return;\n",
       "        }\n",
       "        else if (typeof evt.data === 'string' && evt.data.slice(0, 21) == \"data:image/png;base64\") {\n",
       "            fig.imageObj.src = evt.data;\n",
       "            fig.updated_canvas_event();\n",
       "            fig.waiting = false;\n",
       "            return;\n",
       "        }\n",
       "\n",
       "        var msg = JSON.parse(evt.data);\n",
       "        var msg_type = msg['type'];\n",
       "\n",
       "        // Call the  \"handle_{type}\" callback, which takes\n",
       "        // the figure and JSON message as its only arguments.\n",
       "        try {\n",
       "            var callback = fig[\"handle_\" + msg_type];\n",
       "        } catch (e) {\n",
       "            console.log(\"No handler for the '\" + msg_type + \"' message type: \", msg);\n",
       "            return;\n",
       "        }\n",
       "\n",
       "        if (callback) {\n",
       "            try {\n",
       "                // console.log(\"Handling '\" + msg_type + \"' message: \", msg);\n",
       "                callback(fig, msg);\n",
       "            } catch (e) {\n",
       "                console.log(\"Exception inside the 'handler_\" + msg_type + \"' callback:\", e, e.stack, msg);\n",
       "            }\n",
       "        }\n",
       "    };\n",
       "}\n",
       "\n",
       "// from http://stackoverflow.com/questions/1114465/getting-mouse-location-in-canvas\n",
       "mpl.findpos = function(e) {\n",
       "    //this section is from http://www.quirksmode.org/js/events_properties.html\n",
       "    var targ;\n",
       "    if (!e)\n",
       "        e = window.event;\n",
       "    if (e.target)\n",
       "        targ = e.target;\n",
       "    else if (e.srcElement)\n",
       "        targ = e.srcElement;\n",
       "    if (targ.nodeType == 3) // defeat Safari bug\n",
       "        targ = targ.parentNode;\n",
       "\n",
       "    // jQuery normalizes the pageX and pageY\n",
       "    // pageX,Y are the mouse positions relative to the document\n",
       "    // offset() returns the position of the element relative to the document\n",
       "    var x = e.pageX - $(targ).offset().left;\n",
       "    var y = e.pageY - $(targ).offset().top;\n",
       "\n",
       "    return {\"x\": x, \"y\": y};\n",
       "};\n",
       "\n",
       "/*\n",
       " * return a copy of an object with only non-object keys\n",
       " * we need this to avoid circular references\n",
       " * http://stackoverflow.com/a/24161582/3208463\n",
       " */\n",
       "function simpleKeys (original) {\n",
       "  return Object.keys(original).reduce(function (obj, key) {\n",
       "    if (typeof original[key] !== 'object')\n",
       "        obj[key] = original[key]\n",
       "    return obj;\n",
       "  }, {});\n",
       "}\n",
       "\n",
       "mpl.figure.prototype.mouse_event = function(event, name) {\n",
       "    var canvas_pos = mpl.findpos(event)\n",
       "\n",
       "    if (name === 'button_press')\n",
       "    {\n",
       "        this.canvas.focus();\n",
       "        this.canvas_div.focus();\n",
       "    }\n",
       "\n",
       "    var x = canvas_pos.x * mpl.ratio;\n",
       "    var y = canvas_pos.y * mpl.ratio;\n",
       "\n",
       "    this.send_message(name, {x: x, y: y, button: event.button,\n",
       "                             step: event.step,\n",
       "                             guiEvent: simpleKeys(event)});\n",
       "\n",
       "    /* This prevents the web browser from automatically changing to\n",
       "     * the text insertion cursor when the button is pressed.  We want\n",
       "     * to control all of the cursor setting manually through the\n",
       "     * 'cursor' event from matplotlib */\n",
       "    event.preventDefault();\n",
       "    return false;\n",
       "}\n",
       "\n",
       "mpl.figure.prototype._key_event_extra = function(event, name) {\n",
       "    // Handle any extra behaviour associated with a key event\n",
       "}\n",
       "\n",
       "mpl.figure.prototype.key_event = function(event, name) {\n",
       "\n",
       "    // Prevent repeat events\n",
       "    if (name == 'key_press')\n",
       "    {\n",
       "        if (event.which === this._key)\n",
       "            return;\n",
       "        else\n",
       "            this._key = event.which;\n",
       "    }\n",
       "    if (name == 'key_release')\n",
       "        this._key = null;\n",
       "\n",
       "    var value = '';\n",
       "    if (event.ctrlKey && event.which != 17)\n",
       "        value += \"ctrl+\";\n",
       "    if (event.altKey && event.which != 18)\n",
       "        value += \"alt+\";\n",
       "    if (event.shiftKey && event.which != 16)\n",
       "        value += \"shift+\";\n",
       "\n",
       "    value += 'k';\n",
       "    value += event.which.toString();\n",
       "\n",
       "    this._key_event_extra(event, name);\n",
       "\n",
       "    this.send_message(name, {key: value,\n",
       "                             guiEvent: simpleKeys(event)});\n",
       "    return false;\n",
       "}\n",
       "\n",
       "mpl.figure.prototype.toolbar_button_onclick = function(name) {\n",
       "    if (name == 'download') {\n",
       "        this.handle_save(this, null);\n",
       "    } else {\n",
       "        this.send_message(\"toolbar_button\", {name: name});\n",
       "    }\n",
       "};\n",
       "\n",
       "mpl.figure.prototype.toolbar_button_onmouseover = function(tooltip) {\n",
       "    this.message.textContent = tooltip;\n",
       "};\n",
       "mpl.toolbar_items = [[\"Home\", \"Reset original view\", \"fa fa-home icon-home\", \"home\"], [\"Back\", \"Back to previous view\", \"fa fa-arrow-left icon-arrow-left\", \"back\"], [\"Forward\", \"Forward to next view\", \"fa fa-arrow-right icon-arrow-right\", \"forward\"], [\"\", \"\", \"\", \"\"], [\"Pan\", \"Pan axes with left mouse, zoom with right\", \"fa fa-arrows icon-move\", \"pan\"], [\"Zoom\", \"Zoom to rectangle\", \"fa fa-square-o icon-check-empty\", \"zoom\"], [\"\", \"\", \"\", \"\"], [\"Download\", \"Download plot\", \"fa fa-floppy-o icon-save\", \"download\"]];\n",
       "\n",
       "mpl.extensions = [\"eps\", \"jpeg\", \"pdf\", \"png\", \"ps\", \"raw\", \"svg\", \"tif\"];\n",
       "\n",
       "mpl.default_extension = \"png\";var comm_websocket_adapter = function(comm) {\n",
       "    // Create a \"websocket\"-like object which calls the given IPython comm\n",
       "    // object with the appropriate methods. Currently this is a non binary\n",
       "    // socket, so there is still some room for performance tuning.\n",
       "    var ws = {};\n",
       "\n",
       "    ws.close = function() {\n",
       "        comm.close()\n",
       "    };\n",
       "    ws.send = function(m) {\n",
       "        //console.log('sending', m);\n",
       "        comm.send(m);\n",
       "    };\n",
       "    // Register the callback with on_msg.\n",
       "    comm.on_msg(function(msg) {\n",
       "        //console.log('receiving', msg['content']['data'], msg);\n",
       "        // Pass the mpl event to the overridden (by mpl) onmessage function.\n",
       "        ws.onmessage(msg['content']['data'])\n",
       "    });\n",
       "    return ws;\n",
       "}\n",
       "\n",
       "mpl.mpl_figure_comm = function(comm, msg) {\n",
       "    // This is the function which gets called when the mpl process\n",
       "    // starts-up an IPython Comm through the \"matplotlib\" channel.\n",
       "\n",
       "    var id = msg.content.data.id;\n",
       "    // Get hold of the div created by the display call when the Comm\n",
       "    // socket was opened in Python.\n",
       "    var element = $(\"#\" + id);\n",
       "    var ws_proxy = comm_websocket_adapter(comm)\n",
       "\n",
       "    function ondownload(figure, format) {\n",
       "        window.open(figure.imageObj.src);\n",
       "    }\n",
       "\n",
       "    var fig = new mpl.figure(id, ws_proxy,\n",
       "                           ondownload,\n",
       "                           element.get(0));\n",
       "\n",
       "    // Call onopen now - mpl needs it, as it is assuming we've passed it a real\n",
       "    // web socket which is closed, not our websocket->open comm proxy.\n",
       "    ws_proxy.onopen();\n",
       "\n",
       "    fig.parent_element = element.get(0);\n",
       "    fig.cell_info = mpl.find_output_cell(\"<div id='\" + id + \"'></div>\");\n",
       "    if (!fig.cell_info) {\n",
       "        console.error(\"Failed to find cell for figure\", id, fig);\n",
       "        return;\n",
       "    }\n",
       "\n",
       "    var output_index = fig.cell_info[2]\n",
       "    var cell = fig.cell_info[0];\n",
       "\n",
       "};\n",
       "\n",
       "mpl.figure.prototype.handle_close = function(fig, msg) {\n",
       "    var width = fig.canvas.width/mpl.ratio\n",
       "    fig.root.unbind('remove')\n",
       "\n",
       "    // Update the output cell to use the data from the current canvas.\n",
       "    fig.push_to_output();\n",
       "    var dataURL = fig.canvas.toDataURL();\n",
       "    // Re-enable the keyboard manager in IPython - without this line, in FF,\n",
       "    // the notebook keyboard shortcuts fail.\n",
       "    IPython.keyboard_manager.enable()\n",
       "    $(fig.parent_element).html('<img src=\"' + dataURL + '\" width=\"' + width + '\">');\n",
       "    fig.close_ws(fig, msg);\n",
       "}\n",
       "\n",
       "mpl.figure.prototype.close_ws = function(fig, msg){\n",
       "    fig.send_message('closing', msg);\n",
       "    // fig.ws.close()\n",
       "}\n",
       "\n",
       "mpl.figure.prototype.push_to_output = function(remove_interactive) {\n",
       "    // Turn the data on the canvas into data in the output cell.\n",
       "    var width = this.canvas.width/mpl.ratio\n",
       "    var dataURL = this.canvas.toDataURL();\n",
       "    this.cell_info[1]['text/html'] = '<img src=\"' + dataURL + '\" width=\"' + width + '\">';\n",
       "}\n",
       "\n",
       "mpl.figure.prototype.updated_canvas_event = function() {\n",
       "    // Tell IPython that the notebook contents must change.\n",
       "    IPython.notebook.set_dirty(true);\n",
       "    this.send_message(\"ack\", {});\n",
       "    var fig = this;\n",
       "    // Wait a second, then push the new image to the DOM so\n",
       "    // that it is saved nicely (might be nice to debounce this).\n",
       "    setTimeout(function () { fig.push_to_output() }, 1000);\n",
       "}\n",
       "\n",
       "mpl.figure.prototype._init_toolbar = function() {\n",
       "    var fig = this;\n",
       "\n",
       "    var nav_element = $('<div/>');\n",
       "    nav_element.attr('style', 'width: 100%');\n",
       "    this.root.append(nav_element);\n",
       "\n",
       "    // Define a callback function for later on.\n",
       "    function toolbar_event(event) {\n",
       "        return fig.toolbar_button_onclick(event['data']);\n",
       "    }\n",
       "    function toolbar_mouse_event(event) {\n",
       "        return fig.toolbar_button_onmouseover(event['data']);\n",
       "    }\n",
       "\n",
       "    for(var toolbar_ind in mpl.toolbar_items){\n",
       "        var name = mpl.toolbar_items[toolbar_ind][0];\n",
       "        var tooltip = mpl.toolbar_items[toolbar_ind][1];\n",
       "        var image = mpl.toolbar_items[toolbar_ind][2];\n",
       "        var method_name = mpl.toolbar_items[toolbar_ind][3];\n",
       "\n",
       "        if (!name) { continue; };\n",
       "\n",
       "        var button = $('<button class=\"btn btn-default\" href=\"#\" title=\"' + name + '\"><i class=\"fa ' + image + ' fa-lg\"></i></button>');\n",
       "        button.click(method_name, toolbar_event);\n",
       "        button.mouseover(tooltip, toolbar_mouse_event);\n",
       "        nav_element.append(button);\n",
       "    }\n",
       "\n",
       "    // Add the status bar.\n",
       "    var status_bar = $('<span class=\"mpl-message\" style=\"text-align:right; float: right;\"/>');\n",
       "    nav_element.append(status_bar);\n",
       "    this.message = status_bar[0];\n",
       "\n",
       "    // Add the close button to the window.\n",
       "    var buttongrp = $('<div class=\"btn-group inline pull-right\"></div>');\n",
       "    var button = $('<button class=\"btn btn-mini btn-primary\" href=\"#\" title=\"Stop Interaction\"><i class=\"fa fa-power-off icon-remove icon-large\"></i></button>');\n",
       "    button.click(function (evt) { fig.handle_close(fig, {}); } );\n",
       "    button.mouseover('Stop Interaction', toolbar_mouse_event);\n",
       "    buttongrp.append(button);\n",
       "    var titlebar = this.root.find($('.ui-dialog-titlebar'));\n",
       "    titlebar.prepend(buttongrp);\n",
       "}\n",
       "\n",
       "mpl.figure.prototype._root_extra_style = function(el){\n",
       "    var fig = this\n",
       "    el.on(\"remove\", function(){\n",
       "\tfig.close_ws(fig, {});\n",
       "    });\n",
       "}\n",
       "\n",
       "mpl.figure.prototype._canvas_extra_style = function(el){\n",
       "    // this is important to make the div 'focusable\n",
       "    el.attr('tabindex', 0)\n",
       "    // reach out to IPython and tell the keyboard manager to turn it's self\n",
       "    // off when our div gets focus\n",
       "\n",
       "    // location in version 3\n",
       "    if (IPython.notebook.keyboard_manager) {\n",
       "        IPython.notebook.keyboard_manager.register_events(el);\n",
       "    }\n",
       "    else {\n",
       "        // location in version 2\n",
       "        IPython.keyboard_manager.register_events(el);\n",
       "    }\n",
       "\n",
       "}\n",
       "\n",
       "mpl.figure.prototype._key_event_extra = function(event, name) {\n",
       "    var manager = IPython.notebook.keyboard_manager;\n",
       "    if (!manager)\n",
       "        manager = IPython.keyboard_manager;\n",
       "\n",
       "    // Check for shift+enter\n",
       "    if (event.shiftKey && event.which == 13) {\n",
       "        this.canvas_div.blur();\n",
       "        // select the cell after this one\n",
       "        var index = IPython.notebook.find_cell_index(this.cell_info[0]);\n",
       "        IPython.notebook.select(index + 1);\n",
       "    }\n",
       "}\n",
       "\n",
       "mpl.figure.prototype.handle_save = function(fig, msg) {\n",
       "    fig.ondownload(fig, null);\n",
       "}\n",
       "\n",
       "\n",
       "mpl.find_output_cell = function(html_output) {\n",
       "    // Return the cell and output element which can be found *uniquely* in the notebook.\n",
       "    // Note - this is a bit hacky, but it is done because the \"notebook_saving.Notebook\"\n",
       "    // IPython event is triggered only after the cells have been serialised, which for\n",
       "    // our purposes (turning an active figure into a static one), is too late.\n",
       "    var cells = IPython.notebook.get_cells();\n",
       "    var ncells = cells.length;\n",
       "    for (var i=0; i<ncells; i++) {\n",
       "        var cell = cells[i];\n",
       "        if (cell.cell_type === 'code'){\n",
       "            for (var j=0; j<cell.output_area.outputs.length; j++) {\n",
       "                var data = cell.output_area.outputs[j];\n",
       "                if (data.data) {\n",
       "                    // IPython >= 3 moved mimebundle to data attribute of output\n",
       "                    data = data.data;\n",
       "                }\n",
       "                if (data['text/html'] == html_output) {\n",
       "                    return [cell, data, j];\n",
       "                }\n",
       "            }\n",
       "        }\n",
       "    }\n",
       "}\n",
       "\n",
       "// Register the function which deals with the matplotlib target/channel.\n",
       "// The kernel may be null if the page has been refreshed.\n",
       "if (IPython.notebook.kernel != null) {\n",
       "    IPython.notebook.kernel.comm_manager.register_target('matplotlib', mpl.mpl_figure_comm);\n",
       "}\n"
      ],
      "text/plain": [
       "<IPython.core.display.Javascript object>"
      ]
     },
     "metadata": {},
     "output_type": "display_data"
    },
    {
     "data": {
      "text/html": [
       "<img src=\"data:image/png;base64,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\" width=\"640\">"
      ],
      "text/plain": [
       "<IPython.core.display.HTML object>"
      ]
     },
     "metadata": {},
     "output_type": "display_data"
    }
   ],
   "source": [
    "fig, ax = plt.subplots()\n",
    "ims = []\n",
    "\n",
    "for solution in writer.store:\n",
    "    x = solution.data[\"mesh\"].cells.centroids[..., 0]\n",
    "    x = x.reshape(x.size)\n",
    "    phi = solution.data[AdvectionFields.phi.name]\n",
    "    (im,) = ax.plot(x, phi, 'ko-')\n",
    "    ims.append([im])\n",
    "    \n",
    "    \n",
    "ani = ArtistAnimation(fig, ims, interval=50)"
   ]
  },
  {
   "cell_type": "code",
   "execution_count": null,
   "metadata": {},
   "outputs": [],
   "source": []
  }
 ],
 "metadata": {
  "celltoolbar": "Slideshow",
  "kernelspec": {
   "display_name": "Python 3",
   "language": "python",
   "name": "python3"
  },
  "language_info": {
   "codemirror_mode": {
    "name": "ipython",
    "version": 3
   },
   "file_extension": ".py",
   "mimetype": "text/x-python",
   "name": "python",
   "nbconvert_exporter": "python",
   "pygments_lexer": "ipython3",
   "version": "3.8.5"
  }
 },
 "nbformat": 4,
 "nbformat_minor": 4
}
