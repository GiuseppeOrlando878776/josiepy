{
  "cells": [
    {
      "cell_type": "code",
      "execution_count": null,
      "metadata": {},
      "outputs": [],
      "source": [
        "%load_ext autoreload\n",
        "%autoreload 2\n",
        "%matplotlib notebook\n"
      ]
    },
    {
      "cell_type": "code",
      "execution_count": null,
      "metadata": {},
      "outputs": [],
      "source": [
        "import numpy as np"
      ]
    },
    {
      "cell_type": "code",
      "execution_count": null,
      "metadata": {},
      "outputs": [],
      "source": [
        "from josie.bc import Dirichlet, Neumann, NeumannDirichlet\n",
        "from josie.geom import Line\n",
        "from josie.solver.euler.eos import PerfectGas\n",
        "from josie.solver.euler.problem import Problem\n",
        "from josie.solver.euler.schemes import Rusanov\n",
        "from josie.solver.euler.solver import EulerSolver\n",
        "from josie.solver.euler.state import Q\n",
        "\n",
        "from josie.mesh import Mesh, SimpleCell\n",
        "\n",
        "left = Line([0, 0], [0, 1])\n",
        "bottom = Line([0, 0], [0.25, 0])\n",
        "right = Line([0.25, 0], [.25, 1])\n",
        "top = Line([0, 1], [0.25, 1])\n",
        "\n",
        "\n",
        "\n",
        "# Params\n",
        "JET_CENTER = 0.5\n",
        "JET_RADIUS = 0.05\n",
        "\n",
        "# Inlet\n",
        "U_JET = 1\n",
        "V_JET = 0\n",
        "RHO_JET = 1000\n",
        "P_JET = 1e3\n",
        "\n",
        "RHOe_JET = eos.rhoe(RHO_JET, P_JET)\n",
        "E_JET = RHOe_JET/RHO_JET + 0.5 * (U_JET**2 + V_JET**2)\n",
        "C_JET = eos.sound_velocity(RHO_JET, P_JET)\n",
        "print(f\"Mach: {U_JET/C_JET}\")\n",
        "Q_JET = Q(RHO_JET, RHO_JET*U_JET, RHO_JET*V_JET, RHO_JET*E_JET, RHOe_JET, U_JET, V_JET, P_JET, C_JET)\n",
        "\n",
        "# Field conditions at init\n",
        "U_INIT = 0\n",
        "V_INIT = 0\n",
        "RHO_INIT = RHO_JET/1000\n",
        "P_INIT = P_JET\n",
        "RHOe_INIT = eos.rhoe(RHO_INIT, P_INIT)\n",
        "E_INIT = RHOe_INIT/RHO_INIT + 0.5 * (U_INIT**2 + V_INIT**2)\n",
        "C_INIT = eos.sound_velocity(RHO_INIT, P_INIT)\n",
        "\n",
        "print(f\"Mach: {U_INIT/C_INIT}\")\n",
        "\n",
        "Q_INIT = Q(RHO_INIT, RHO_INIT*U_INIT, RHO_INIT*V_INIT, RHO_INIT*E_INIT, RHOe_INIT, \n",
        "           U_INIT, V_INIT, P_INIT, C_INIT)\n",
        "\n",
        "# Neumann\n",
        "dQ = np.zeros(len(Q.fields)).view(Q)\n",
        "\n",
        "def partition_fun(centroids: np.ndarray):\n",
        "    yc = centroids[:, 1]\n",
        "    \n",
        "    # Partition cells of the inlet\n",
        "    idx = np.where((yc - JET_CENTER)**2 < JET_RADIUS**2)\n",
        "    \n",
        "    return idx\n",
        "\n",
        "\n",
        "# Assign BC to boundaries\n",
        "left.bc = NeumannDirichlet(dirichlet_value=Q_JET, neumann_value=dQ, partition_fun=partition_fun)\n",
        "# left.bc = Dirichlet(Q_JET)\n",
        "top.bc = Dirichlet(Q_INIT)\n",
        "right.bc = Neumann(dQ)\n",
        "bottom.bc = Dirichlet(Q_INIT)\n",
        "\n",
        "mesh = Mesh(left, bottom, right, top, SimpleCell)\n",
        "mesh.interpolate(25, 100)\n",
        "mesh.generate()\n",
        "mesh.write('mesh.xdmf')\n",
        "# mesh.plot()"
      ]
    },
    {
      "cell_type": "code",
      "execution_count": null,
      "metadata": {},
      "outputs": [],
      "source": [
        "# Solver\n",
        "eos = PerfectGas(gamma=1.4)\n",
        "scheme = Rusanov(eos)\n",
        "solver = EulerSolver(mesh, scheme)\n",
        "\n",
        "\n",
        "def init_fun(solver): \n",
        "    solver.values[:, :, :] = Q_INIT\n",
        "    \n",
        "\n",
        "solver.init(init_fun)"
      ]
    },
    {
      "cell_type": "code",
      "execution_count": null,
      "metadata": {},
      "outputs": [],
      "source": [
        "final_time = 2\n",
        "t = 0\n",
        "\n",
        "t_save = 0\n",
        "dt_save = 0.001\n",
        "should_save = False\n",
        "\n",
        "\n",
        "CFL = 0.2\n",
        "\n",
        "while t <= final_time:\n",
        "    if should_save:\n",
        "        solver.animate(t)\n",
        "        solver.save(t, 'euler.xdmf')\n",
        "        should_save = False\n",
        "        \n",
        "    dt = scheme.CFL(\n",
        "        solver.values, \n",
        "        solver.mesh.volumes, \n",
        "        solver.mesh.normals,\n",
        "        solver.mesh.surfaces,\n",
        "        CFL,\n",
        "    )\n",
        "    \n",
        "    cur_t = t + dt\n",
        "    \n",
        "    if cur_t > (t_save + dt_save):\n",
        "        should_save = True\n",
        "        dt = (t_save + dt_save) - t\n",
        "        t_save = t + dt\n",
        "    \n",
        "    solver.step(dt)\n",
        "    t += dt\n",
        "    print(f't: {t}, dt: {dt}')"
      ]
    },
    {
      "cell_type": "code",
      "execution_count": null,
      "metadata": {},
      "outputs": [],
      "source": [
        "del solver._writer"
      ]
    },
    {
      "cell_type": "code",
      "execution_count": null,
      "metadata": {},
      "outputs": [],
      "source": [
        "solver.show(\"rho\")"
      ]
    },
    {
      "cell_type": "code",
      "execution_count": null,
      "metadata": {},
      "outputs": [],
      "source": []
    }
  ],
  "metadata": {
    "kernelspec": {
      "display_name": "Python 3",
      "language": "python",
      "name": "python3"
    },
    "language_info": {
      "codemirror_mode": {
        "name": "ipython",
        "version": 3
      },
      "file_extension": ".py",
      "mimetype": "text/x-python",
      "name": "python",
      "nbconvert_exporter": "python",
      "pygments_lexer": "ipython3",
      "version": "3.7.6"
    }
  },
  "nbformat": 4,
  "nbformat_minor": 2
}
