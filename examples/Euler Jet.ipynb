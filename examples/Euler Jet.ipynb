{
 "cells": [
  {
   "cell_type": "code",
   "execution_count": null,
   "metadata": {},
   "outputs": [],
   "source": [
    "%load_ext autoreload\n",
    "%autoreload 2\n",
    "import numpy as np"
   ]
  },
  {
   "cell_type": "code",
   "execution_count": null,
   "metadata": {},
   "outputs": [],
   "source": [
    "from josie.bc import Dirichlet, Neumann, NeumannDirichlet\n",
    "from josie.geom import Line\n",
    "from josie.solver.euler import Q, EulerSolver, PerfectGas, Rusanov\n",
    "from josie.mesh import Mesh, SimpleCell\n",
    "\n",
    "left = Line([0, 0], [0, 1])\n",
    "bottom = Line([0, 0], [1, 0])\n",
    "right = Line([1, 0], [1, 1])\n",
    "top = Line([0, 1], [1, 1])\n",
    "\n",
    "eos = PerfectGas(gamma=1.4)\n",
    "\n",
    "# Params\n",
    "JET_CENTER = 0.5\n",
    "JET_RADIUS = 0.05\n",
    "\n",
    "# Inlet\n",
    "U_JET = 1\n",
    "V_JET = 0\n",
    "RHO_JET = 2\n",
    "P_JET = 10\n",
    "\n",
    "RHOe_JET = eos.rhoe(RHO_JET, P_JET)\n",
    "E_JET = RHOe_JET/RHO_JET + 0.5 * (U_JET**2 + V_JET**2)\n",
    "C_JET = eos.sound_velocity(RHO_JET, P_JET)\n",
    "print(f\"Mach: {U_JET/C_JET}\")\n",
    "Q_JET = Q(RHO_JET, RHO_JET*U_JET, RHO_JET*V_JET, RHO_JET*E_JET, RHOe_JET, U_JET, V_JET, P_JET, C_JET)\n",
    "\n",
    "# Field conditions at init\n",
    "U_INIT = 0.01\n",
    "V_INIT = 0\n",
    "RHO_INIT = 1\n",
    "P_INIT = 5\n",
    "RHOe_INIT = eos.rhoe(RHO_INIT, P_INIT)\n",
    "E_INIT = RHOe_INIT/RHO_INIT + 0.5 * (U_INIT**2 + V_INIT**2)\n",
    "C_INIT = eos.sound_velocity(RHO_INIT, P_INIT)\n",
    "\n",
    "print(f\"Mach: {U_INIT/C_INIT}\")\n",
    "\n",
    "Q_INIT = Q(RHO_INIT, RHO_INIT*U_INIT, RHO_INIT*V_INIT, RHO_INIT*E_INIT, RHOe_INIT, \n",
    "           U_INIT, V_INIT, P_INIT, C_INIT)\n",
    "\n",
    "# Neumann\n",
    "dQ = Q.zeros()\n",
    "\n",
    "def partition_fun(centroids: np.ndarray):\n",
    "    yc = centroids[:, 1]\n",
    "    \n",
    "    # Partition cells of the inlet\n",
    "    idx = np.where((yc - JET_CENTER)**2 < JET_RADIUS**2)\n",
    "    \n",
    "    print(idx)\n",
    "    return idx\n",
    "\n",
    "\n",
    "# Assign BC to boundaries\n",
    "# left.bc = NeumannDirichlet(dirichlet_value=Q_JET, neumann_value=dQ, partition_fun=partition_fun)\n",
    "left.bc = Dirichlet(Q_JET)\n",
    "top.bc = Dirichlet(Q_INIT)\n",
    "right.bc = Dirichlet(Q_INIT)\n",
    "bottom.bc = Dirichlet(Q_INIT)\n",
    "\n",
    "mesh = Mesh(left, bottom, right, top, SimpleCell)\n",
    "mesh.interpolate(50, 50)\n",
    "mesh.generate()\n",
    "mesh.write('mesh.xdmf')\n",
    "# mesh.plot()"
   ]
  },
  {
   "cell_type": "code",
   "execution_count": null,
   "metadata": {},
   "outputs": [],
   "source": [
    "# Solver\n",
    "solver = EulerSolver(mesh, eos)\n",
    "\n",
    "\n",
    "\n",
    "def init_fun(solver): \n",
    "    solver.values[:, :, :] = Q_INIT\n",
    "    \n",
    "\n",
    "solver.init(init_fun)"
   ]
  },
  {
   "cell_type": "code",
   "execution_count": null,
   "metadata": {},
   "outputs": [],
   "source": [
    "print(solver.left_ghost[:, 0])\n",
    "print(solver.mesh.centroids[0, :, 1])"
   ]
  },
  {
   "cell_type": "code",
   "execution_count": null,
   "metadata": {},
   "outputs": [],
   "source": [
    "solver.plot()\n",
    "solver.show('rhoU')"
   ]
  },
  {
   "cell_type": "code",
   "execution_count": null,
   "metadata": {},
   "outputs": [],
   "source": [
    "final_time = 0.25\n",
    "t = 0\n",
    "CFL = 0.2\n",
    "scheme = Rusanov()\n",
    "\n",
    "while t <= final_time:\n",
    "    dt = scheme.CFL(\n",
    "        solver.values, \n",
    "        solver.mesh.volumes, \n",
    "        solver.mesh.normals,\n",
    "        solver.mesh.surfaces,\n",
    "        CFL,\n",
    "    )\n",
    "    solver.step(dt, scheme)\n",
    "    t += dt\n",
    "    print(t)\n",
    "    solver.save(t, 'euler.xdmf')\n",
    "\n",
    "\n",
    "del solver._writer"
   ]
  },
  {
   "cell_type": "code",
   "execution_count": null,
   "metadata": {},
   "outputs": [],
   "source": [
    "del solver._writer"
   ]
  },
  {
   "cell_type": "code",
   "execution_count": null,
   "metadata": {},
   "outputs": [],
   "source": []
  }
 ],
 "metadata": {
  "language_info": {
   "name": "python",
   "pygments_lexer": "ipython3"
  }
 },
 "nbformat": 4,
 "nbformat_minor": 2
}
