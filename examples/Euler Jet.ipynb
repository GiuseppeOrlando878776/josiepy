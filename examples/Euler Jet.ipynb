{
 "cells": [
  {
   "cell_type": "code",
   "execution_count": 1,
   "metadata": {},
   "outputs": [],
   "source": [
    "%load_ext autoreload\n",
    "%autoreload 2\n",
    "import numpy as np"
   ]
  },
  {
   "cell_type": "code",
   "execution_count": 20,
   "metadata": {},
   "outputs": [
    {
     "name": "stdout",
     "output_type": "stream",
     "text": [
      "Mach: 0.3779644730092272\n",
      "Mach: 0.0\n"
     ]
    }
   ],
   "source": [
    "from josie.bc import Dirichlet, Neumann, NeumannDirichlet\n",
    "from josie.geom import Line\n",
    "from josie.solver.euler import Q, EulerSolver, PerfectGas, Rusanov\n",
    "from josie.mesh import Mesh, SimpleCell\n",
    "\n",
    "left = Line([0, 0], [0, 1])\n",
    "bottom = Line([0, 0], [1, 0])\n",
    "right = Line([1, 0], [1, 1])\n",
    "top = Line([0, 1], [1, 1])\n",
    "\n",
    "eos = PerfectGas(gamma=1.4)\n",
    "\n",
    "# Params\n",
    "JET_CENTER = 0.5\n",
    "JET_RADIUS = 0.05\n",
    "\n",
    "# Inlet\n",
    "U_JET = 1\n",
    "V_JET = 0\n",
    "RHO_JET = 2\n",
    "P_JET = 10\n",
    "\n",
    "RHOe_JET = eos.rhoe(RHO_JET, P_JET)\n",
    "E_JET = RHOe_JET/RHO_JET + 0.5 * (U_JET**2 + V_JET**2)\n",
    "C_JET = eos.sound_velocity(RHO_JET, P_JET)\n",
    "print(f\"Mach: {U_JET/C_JET}\")\n",
    "Q_JET = Q(RHO_JET, RHO_JET*U_JET, RHO_JET*V_JET, RHO_JET*E_JET, RHOe_JET, U_JET, V_JET, P_JET, C_JET)\n",
    "\n",
    "# Field conditions at init\n",
    "U_INIT = 0\n",
    "V_INIT = 0\n",
    "RHO_INIT = 1\n",
    "P_INIT = 5\n",
    "RHOe_INIT = eos.rhoe(RHO_INIT, P_INIT)\n",
    "E_INIT = RHOe_INIT/RHO_INIT + 0.5 * (U_INIT**2 + V_INIT**2)\n",
    "C_INIT = eos.sound_velocity(RHO_INIT, P_INIT)\n",
    "\n",
    "print(f\"Mach: {U_INIT/C_INIT}\")\n",
    "\n",
    "Q_INIT = Q(RHO_INIT, RHO_INIT*U_INIT, RHO_INIT*V_INIT, RHO_INIT*E_INIT, RHOe_INIT, \n",
    "           U_INIT, V_INIT, P_INIT, C_INIT)\n",
    "\n",
    "# Neumann\n",
    "dQ = Q.zeros()\n",
    "\n",
    "def partition_fun(centroids: np.ndarray):\n",
    "    yc = centroids[:, 1]\n",
    "    \n",
    "    # Partition cells of the inlet\n",
    "    idx = np.where((yc - JET_CENTER)**2 < JET_RADIUS**2)\n",
    "    \n",
    "    print(idx)\n",
    "    return idx\n",
    "\n",
    "\n",
    "# Assign BC to boundaries\n",
    "# left.bc = NeumannDirichlet(dirichlet_value=Q_JET, neumann_value=dQ, partition_fun=partition_fun)\n",
    "left.bc = Dirichlet(Q_JET)\n",
    "top.bc = Neumann(dQ)\n",
    "right.bc = Neumann(dQ)\n",
    "bottom.bc = Neumann(dQ)\n",
    "\n",
    "mesh = Mesh(left, bottom, right, top, SimpleCell)\n",
    "mesh.interpolate(3, 3)\n",
    "mesh.generate()\n",
    "mesh.write('mesh.xdmf')\n",
    "# mesh.plot()"
   ]
  },
  {
   "cell_type": "code",
   "execution_count": 21,
   "metadata": {},
   "outputs": [],
   "source": [
    "# Solver\n",
    "solver = EulerSolver(mesh, eos)\n",
    "\n",
    "\n",
    "\n",
    "def init_fun(solver): \n",
    "    solver.values[:, :, :] = Q_INIT\n",
    "    \n",
    "\n",
    "solver.init(init_fun)\n",
    "solver.save(0, 'euler.xdmf')"
   ]
  },
  {
   "cell_type": "code",
   "execution_count": 22,
   "metadata": {},
   "outputs": [
    {
     "name": "stdout",
     "output_type": "stream",
     "text": [
      "[3. 3. 3.]\n",
      "[0.16666667 0.5        0.83333333]\n"
     ]
    }
   ],
   "source": [
    "print(solver.left_ghost[:, 0])\n",
    "print(solver.mesh.centroids[0, :, 1])"
   ]
  },
  {
   "cell_type": "code",
   "execution_count": 23,
   "metadata": {},
   "outputs": [
    {
     "data": {
      "image/png": "[encoded data removed]",
      "text/plain": [
       "<Figure size 432x288 with 1 Axes>"
      ]
     },
     "metadata": {
      "needs_background": "light"
     },
     "output_type": "display_data"
    }
   ],
   "source": [
    "solver.plot()\n",
    "solver.show('rhoU')"
   ]
  },
  {
   "cell_type": "code",
   "execution_count": null,
   "metadata": {},
   "outputs": [
    {
     "name": "stdout",
     "output_type": "stream",
     "text": [
      "> \u001b[0;32m/work/irlin361755_1/home/dibattir/git/josiepy/josie/solver/euler/schemes.py\u001b[0m(107)\u001b[0;36mconvective_flux\u001b[0;34m()\u001b[0m\n",
      "\u001b[0;32m    106 \u001b[0;31m\u001b[0;34m\u001b[0m\u001b[0m\n",
      "\u001b[0m\u001b[0;32m--> 107 \u001b[0;31m        \u001b[0mFS\u001b[0m\u001b[0;34m[\u001b[0m\u001b[0;34m:\u001b[0m\u001b[0;34m,\u001b[0m \u001b[0;34m:\u001b[0m\u001b[0;34m,\u001b[0m \u001b[0;34m:\u001b[0m\u001b[0;36m4\u001b[0m\u001b[0;34m]\u001b[0m \u001b[0;34m=\u001b[0m \u001b[0msurfaces\u001b[0m\u001b[0;34m[\u001b[0m\u001b[0;34m:\u001b[0m\u001b[0;34m,\u001b[0m \u001b[0;34m:\u001b[0m\u001b[0;34m,\u001b[0m \u001b[0mnp\u001b[0m\u001b[0;34m.\u001b[0m\u001b[0mnewaxis\u001b[0m\u001b[0;34m]\u001b[0m \u001b[0;34m*\u001b[0m \u001b[0;34m(\u001b[0m\u001b[0mDeltaF\u001b[0m \u001b[0;34m-\u001b[0m \u001b[0mDeltaQ\u001b[0m\u001b[0;34m)\u001b[0m\u001b[0;34m\u001b[0m\u001b[0;34m\u001b[0m\u001b[0m\n",
      "\u001b[0m\u001b[0;32m    108 \u001b[0;31m\u001b[0;34m\u001b[0m\u001b[0m\n",
      "\u001b[0m\n",
      "ipdb> p DeltaF - DeltaQ\n",
      "array([[[-6.64575131e+00, -2.32915026e+01,  0.00000000e+00,\n",
      "         -1.17217643e+02],\n",
      "        [-6.64575131e+00, -2.32915026e+01,  0.00000000e+00,\n",
      "         -1.17217643e+02],\n",
      "        [-6.64575131e+00, -2.32915026e+01,  0.00000000e+00,\n",
      "         -1.17217643e+02]],\n",
      "\n",
      "       [[ 0.00000000e+00, -5.00000000e+00,  1.66533454e-15,\n",
      "          0.00000000e+00],\n",
      "        [ 0.00000000e+00, -5.00000000e+00, -2.49800181e-15,\n",
      "          0.00000000e+00],\n",
      "        [ 0.00000000e+00, -5.00000000e+00,  8.32667268e-16,\n",
      "          0.00000000e+00]],\n",
      "\n",
      "       [[ 0.00000000e+00, -5.00000000e+00,  3.33066907e-15,\n",
      "          0.00000000e+00],\n",
      "        [ 0.00000000e+00, -5.00000000e+00, -4.99600361e-15,\n",
      "          0.00000000e+00],\n",
      "        [ 0.00000000e+00, -5.00000000e+00,  1.66533454e-15,\n",
      "          0.00000000e+00]]])\n",
      "ipdb> alla = DeltaF - DeltaQ\n",
      "ipdb> p alla[0, 0, :]\n",
      "array([  -6.64575131,  -23.29150262,    0.        , -117.2176427 ])\n",
      "ipdb> p sigma[0, 0]\n",
      "4.645751311064591\n",
      "ipdb> p DeltaQ\n",
      "array([[[ 4.64575131,  9.29150262,  0.        , 62.7176427 ],\n",
      "        [ 4.64575131,  9.29150262,  0.        , 62.7176427 ],\n",
      "        [ 4.64575131,  9.29150262,  0.        , 62.7176427 ]],\n",
      "\n",
      "       [[ 0.        ,  0.        ,  0.        ,  0.        ],\n",
      "        [ 0.        ,  0.        ,  0.        ,  0.        ],\n",
      "        [ 0.        ,  0.        ,  0.        ,  0.        ]],\n",
      "\n",
      "       [[ 0.        ,  0.        ,  0.        ,  0.        ],\n",
      "        [ 0.        ,  0.        ,  0.        ,  0.        ],\n",
      "        [ 0.        ,  0.        ,  0.        ,  0.        ]]])\n",
      "ipdb> p DeltaQ[0, 0]\n",
      "array([ 4.64575131,  9.29150262,  0.        , 62.7176427 ])\n",
      "ipdb> neigh_values_cons\n",
      "array([[[ 3. ,  4. ,  0. , 39.5],\n",
      "        [ 3. ,  4. ,  0. , 39.5],\n",
      "        [ 3. ,  4. ,  0. , 39.5]],\n",
      "\n",
      "       [[ 1. ,  0. ,  0. , 12.5],\n",
      "        [ 1. ,  0. ,  0. , 12.5],\n",
      "        [ 1. ,  0. ,  0. , 12.5]],\n",
      "\n",
      "       [[ 1. ,  0. ,  0. , 12.5],\n",
      "        [ 1. ,  0. ,  0. , 12.5],\n",
      "        [ 1. ,  0. ,  0. , 12.5]]])\n",
      "ipdb> lollo = values_cons - neigh_values_cons\n",
      "ipdb> p lollo[0, 0]\n",
      "array([ -2.,  -4.,   0., -27.])\n",
      "ipdb>  p lollo * sigma[0, 0]\n",
      "array([[[  -9.29150262,  -18.58300524,    0.        , -125.4352854 ],\n",
      "        [  -9.29150262,  -18.58300524,    0.        , -125.4352854 ],\n",
      "        [  -9.29150262,  -18.58300524,    0.        , -125.4352854 ]],\n",
      "\n",
      "       [[   0.        ,    0.        ,    0.        ,    0.        ],\n",
      "        [   0.        ,    0.        ,    0.        ,    0.        ],\n",
      "        [   0.        ,    0.        ,    0.        ,    0.        ]],\n",
      "\n",
      "       [[   0.        ,    0.        ,    0.        ,    0.        ],\n",
      "        [   0.        ,    0.        ,    0.        ,    0.        ],\n",
      "        [   0.        ,    0.        ,    0.        ,    0.        ]]])\n",
      "ipdb> p lollo[0, 0] * sigma[0, 0]\n",
      "array([  -9.29150262,  -18.58300524,    0.        , -125.4352854 ])\n",
      "ipdb> p alla[0, 0]\n",
      "array([  -6.64575131,  -23.29150262,    0.        , -117.2176427 ])\n",
      "ipdb> p sigma[0, 0]\n",
      "4.645751311064591\n",
      "ipdb> p lollo[0, 0] * sigma[0, 0] * 0.5\n",
      "array([ -4.64575131,  -9.29150262,   0.        , -62.7176427 ])\n",
      "ipdb> p sigma[0, 0]\n",
      "4.645751311064591\n",
      "ipdb> p sigma[0, 0] * 0.5\n",
      "2.3228756555322954\n",
      "ipdb> p DeltaF - DeltaQ[:, 0]\n",
      "array([[[-6.64575131e+00, -2.32915026e+01,  0.00000000e+00,\n",
      "         -1.17217643e+02],\n",
      "        [-2.00000000e+00, -1.40000000e+01,  0.00000000e+00,\n",
      "         -5.45000000e+01],\n",
      "        [-2.00000000e+00, -1.40000000e+01,  0.00000000e+00,\n",
      "         -5.45000000e+01]],\n",
      "\n",
      "       [[-4.64575131e+00, -1.42915026e+01,  1.66533454e-15,\n",
      "         -6.27176427e+01],\n",
      "        [ 0.00000000e+00, -5.00000000e+00, -2.49800181e-15,\n",
      "          0.00000000e+00],\n",
      "        [ 0.00000000e+00, -5.00000000e+00,  8.32667268e-16,\n",
      "          0.00000000e+00]],\n",
      "\n",
      "       [[-4.64575131e+00, -1.42915026e+01,  3.33066907e-15,\n",
      "         -6.27176427e+01],\n",
      "        [ 0.00000000e+00, -5.00000000e+00, -4.99600361e-15,\n",
      "          0.00000000e+00],\n",
      "        [ 0.00000000e+00, -5.00000000e+00,  1.66533454e-15,\n",
      "          0.00000000e+00]]])\n",
      "ipdb> p DeltaF[:, 0, :] - DeltaQ[:, 0, :]\n",
      "array([[-6.64575131e+00, -2.32915026e+01,  0.00000000e+00,\n",
      "        -1.17217643e+02],\n",
      "       [ 0.00000000e+00, -5.00000000e+00,  1.66533454e-15,\n",
      "         0.00000000e+00],\n",
      "       [ 0.00000000e+00, -5.00000000e+00,  3.33066907e-15,\n",
      "         0.00000000e+00]])\n",
      "ipdb> p left_flux = DeltaF[0, :] - DeltaQ[0, :]\n",
      "*** SyntaxError: invalid syntax\n",
      "ipdb> left_flux = DeltaF[0, :] - DeltaQ[0, :]\n",
      "ipdb> p left_flux.shape\n",
      "(3, 4)\n",
      "ipdb> p left_flux[1, :]\n",
      "array([  -6.64575131,  -23.29150262,    0.        , -117.2176427 ])\n",
      "ipdb> p left_Flux\n",
      "*** NameError: name 'left_Flux' is not defined\n",
      "ipdb> p left_flux\n",
      "array([[  -6.64575131,  -23.29150262,    0.        , -117.2176427 ],\n",
      "       [  -6.64575131,  -23.29150262,    0.        , -117.2176427 ],\n",
      "       [  -6.64575131,  -23.29150262,    0.        , -117.2176427 ]])\n",
      "ipdb> p surfaces\n",
      "array([[0.33333333, 0.33333333, 0.33333333],\n",
      "       [0.33333333, 0.33333333, 0.33333333],\n",
      "       [0.33333333, 0.33333333, 0.33333333]])\n",
      "ipdb> p FS[0, 0, :]\n",
      "array([  9.49354219,   7.91878458,  38.00451715, 229.76734713,\n",
      "       150.39494623,   0.83412328,   4.00319674,  60.15797849,\n",
      "         2.97849237])\n",
      "ipdb> n\n",
      "> \u001b[0;32m/work/irlin361755_1/home/dibattir/git/josiepy/josie/solver/euler/schemes.py\u001b[0m(109)\u001b[0;36mconvective_flux\u001b[0;34m()\u001b[0m\n",
      "\u001b[0;32m    108 \u001b[0;31m\u001b[0;34m\u001b[0m\u001b[0m\n",
      "\u001b[0m\u001b[0;32m--> 109 \u001b[0;31m        \u001b[0;32mreturn\u001b[0m \u001b[0mFS\u001b[0m\u001b[0;34m\u001b[0m\u001b[0;34m\u001b[0m\u001b[0m\n",
      "\u001b[0m\u001b[0;32m    110 \u001b[0;31m\u001b[0;34m\u001b[0m\u001b[0m\n",
      "\u001b[0m\n",
      "ipdb> p FS[0, 0, :]\n",
      "array([ -2.21525044,  -7.76383421,   0.        , -39.07254757,\n",
      "       150.39494623,   0.83412328,   4.00319674,  60.15797849,\n",
      "         2.97849237])\n"
     ]
    }
   ],
   "source": [
    "final_time = 0.25\n",
    "t = 0\n",
    "CFL = 0.2\n",
    "scheme = Rusanov()\n",
    "\n",
    "while t <= final_time:\n",
    "    dt = scheme.CFL(\n",
    "        solver.values, \n",
    "        solver.mesh.volumes, \n",
    "        solver.mesh.normals,\n",
    "        solver.mesh.surfaces,\n",
    "        CFL,\n",
    "    )\n",
    "    solver.step(dt, scheme)\n",
    "    t += dt\n",
    "    print(f't: {t}, dt: {dt}')\n",
    "    solver.save(t, 'euler.xdmf')\n",
    "\n",
    "\n",
    "del solver._writer"
   ]
  },
  {
   "cell_type": "code",
   "execution_count": 20,
   "metadata": {},
   "outputs": [
    {
     "ename": "AttributeError",
     "evalue": "_writer",
     "output_type": "error",
     "traceback": [
      "\u001b[0;31m---------------------------------------------------------------------------\u001b[0m",
      "\u001b[0;31mAttributeError\u001b[0m                            Traceback (most recent call last)",
      "\u001b[0;32m<ipython-input-20-bd1c252ebc85>\u001b[0m in \u001b[0;36m<module>\u001b[0;34m\u001b[0m\n\u001b[0;32m----> 1\u001b[0;31m \u001b[0;32mdel\u001b[0m \u001b[0msolver\u001b[0m\u001b[0;34m.\u001b[0m\u001b[0m_writer\u001b[0m\u001b[0;34m\u001b[0m\u001b[0;34m\u001b[0m\u001b[0m\n\u001b[0m",
      "\u001b[0;31mAttributeError\u001b[0m: _writer"
     ]
    }
   ],
   "source": [
    "del solver._writer"
   ]
  },
  {
   "cell_type": "code",
   "execution_count": 7,
   "metadata": {},
   "outputs": [
    {
     "name": "stdout",
     "output_type": "stream",
     "text": [
      "[ 2.          2.          0.         26.         25.          1.\n",
      "  0.         10.          2.64575131]\n"
     ]
    }
   ],
   "source": [
    "print(Q_JET)"
   ]
  },
  {
   "cell_type": "code",
   "execution_count": 11,
   "metadata": {},
   "outputs": [
    {
     "name": "stdout",
     "output_type": "stream",
     "text": [
      "[ 1.          0.          0.         12.5        12.5         0.\n",
      "  0.          5.          2.64575131]\n"
     ]
    }
   ],
   "source": [
    "print(Q_INIT)"
   ]
  },
  {
   "cell_type": "code",
   "execution_count": 16,
   "metadata": {},
   "outputs": [
    {
     "name": "stdout",
     "output_type": "stream",
     "text": [
      "[ 3.          4.          0.         39.5        37.5         2.\n",
      "  0.         15.          2.64575131]\n"
     ]
    }
   ],
   "source": [
    "print(solver.left_ghost[0, :].ravel())"
   ]
  }
 ],
 "metadata": {
  "kernelspec": {
   "display_name": "Python 3",
   "language": "python",
   "name": "python3"
  },
  "language_info": {
   "codemirror_mode": {
    "name": "ipython",
    "version": 3
   },
   "file_extension": ".py",
   "mimetype": "text/x-python",
   "name": "python",
   "nbconvert_exporter": "python",
   "pygments_lexer": "ipython3",
   "version": "3.7.4"
  }
 },
 "nbformat": 4,
 "nbformat_minor": 2
}
